{
 "cells": [
  {
   "cell_type": "code",
   "execution_count": 1,
   "metadata": {},
   "outputs": [
    {
     "data": {
      "text/plain": [
       "'C:\\\\Users\\\\DELL\\\\Desktop\\\\Advanced-python-modules'"
      ]
     },
     "execution_count": 1,
     "metadata": {},
     "output_type": "execute_result"
    }
   ],
   "source": [
    "pwd"
   ]
  },
  {
   "cell_type": "code",
   "execution_count": 2,
   "metadata": {},
   "outputs": [],
   "source": [
    "f=open('practice.txt','w+')  # Here I'm creating a text file with the help of this syntax\n",
    "f.write('This is my practice file text sample') # Now I'm writing a text in that file\n",
    "f.close() # Close that file"
   ]
  },
  {
   "cell_type": "code",
   "execution_count": 3,
   "metadata": {},
   "outputs": [],
   "source": [
    "# Now we are calling OS module for several methods"
   ]
  },
  {
   "cell_type": "code",
   "execution_count": 6,
   "metadata": {},
   "outputs": [],
   "source": [
    "import os # both are in lower case "
   ]
  },
  {
   "cell_type": "code",
   "execution_count": 7,
   "metadata": {},
   "outputs": [],
   "source": [
    "# Now to find directories "
   ]
  },
  {
   "cell_type": "code",
   "execution_count": 8,
   "metadata": {},
   "outputs": [
    {
     "data": {
      "text/plain": [
       "'C:\\\\Users\\\\DELL\\\\Desktop\\\\Advanced-python-modules'"
      ]
     },
     "execution_count": 8,
     "metadata": {},
     "output_type": "execute_result"
    }
   ],
   "source": [
    "os.getcwd()"
   ]
  },
  {
   "cell_type": "code",
   "execution_count": 7,
   "metadata": {},
   "outputs": [],
   "source": [
    "# For files inside a folder"
   ]
  },
  {
   "cell_type": "code",
   "execution_count": 8,
   "metadata": {},
   "outputs": [
    {
     "data": {
      "text/plain": [
       "['.git',\n",
       " '.ipynb_checkpoints',\n",
       " 'Advanced python modules.ipynb',\n",
       " 'Opening-and-reading-files-folders.ipynb',\n",
       " 'practice.txt',\n",
       " 'README.md',\n",
       " 'Untitled.ipynb']"
      ]
     },
     "execution_count": 8,
     "metadata": {},
     "output_type": "execute_result"
    }
   ],
   "source": [
    "os.listdir()"
   ]
  },
  {
   "cell_type": "code",
   "execution_count": 9,
   "metadata": {},
   "outputs": [],
   "source": [
    "# If you want to look other foler's file "
   ]
  },
  {
   "cell_type": "code",
   "execution_count": 11,
   "metadata": {},
   "outputs": [
    {
     "data": {
      "text/plain": [
       "['Advanced-python-modules',\n",
       " 'Artificial Intelligence A-Z™ Learn How To Build An AI',\n",
       " 'Arya_Tomar,CV Email Marketing.docx',\n",
       " 'Arya_Tomar,CV Email Marketing.pdf',\n",
       " 'Arya_Tomar,_B.Tech-_Mechatronics-1[cv].pdf',\n",
       " 'Biped Walking Robot',\n",
       " 'BitTorrent.lnk',\n",
       " 'College',\n",
       " 'desktop.ini',\n",
       " 'Emailer',\n",
       " 'git',\n",
       " 'LOST.DIR',\n",
       " 'mukteshwar',\n",
       " 'one.py',\n",
       " 'Resoruces for practicing.txt',\n",
       " 'simpleone.py',\n",
       " 'TestIDs.txt',\n",
       " 'two.py',\n",
       " '__pycache__',\n",
       " 'µTorrent.lnk']"
      ]
     },
     "execution_count": 11,
     "metadata": {},
     "output_type": "execute_result"
    }
   ],
   "source": [
    "os.listdir('C:\\\\Users\\\\DELL\\\\Desktop')"
   ]
  },
  {
   "cell_type": "code",
   "execution_count": 14,
   "metadata": {},
   "outputs": [
    {
     "data": {
      "text/plain": [
       "['All Users', 'Default', 'Default User', 'DELL', 'desktop.ini', 'Public']"
      ]
     },
     "execution_count": 14,
     "metadata": {},
     "output_type": "execute_result"
    }
   ],
   "source": [
    "os.listdir('C:\\\\Users')"
   ]
  },
  {
   "cell_type": "code",
   "execution_count": 1,
   "metadata": {},
   "outputs": [],
   "source": [
    "# To move a file or folder from one place to another"
   ]
  },
  {
   "cell_type": "code",
   "execution_count": 2,
   "metadata": {},
   "outputs": [],
   "source": [
    "# For that we are using shutil module"
   ]
  },
  {
   "cell_type": "code",
   "execution_count": 12,
   "metadata": {},
   "outputs": [],
   "source": [
    "import shutil"
   ]
  },
  {
   "cell_type": "code",
   "execution_count": 17,
   "metadata": {},
   "outputs": [
    {
     "data": {
      "text/plain": [
       "'C:\\\\Users\\\\DELL\\\\practice.txt'"
      ]
     },
     "execution_count": 17,
     "metadata": {},
     "output_type": "execute_result"
    }
   ],
   "source": [
    "shutil.move('practice.txt','C:\\\\Users\\\\DELL')"
   ]
  },
  {
   "cell_type": "code",
   "execution_count": null,
   "metadata": {},
   "outputs": [],
   "source": []
  },
  {
   "cell_type": "code",
   "execution_count": 15,
   "metadata": {},
   "outputs": [],
   "source": [
    "# Right now our practice.txt file is in Dell Folder so to move it back to our current folder we use shutil.move method"
   ]
  },
  {
   "cell_type": "code",
   "execution_count": 19,
   "metadata": {},
   "outputs": [
    {
     "data": {
      "text/plain": [
       "'C:\\\\Users\\\\DELL\\\\Desktop\\\\Advanced-python-modules\\\\practice.txt'"
      ]
     },
     "execution_count": 19,
     "metadata": {},
     "output_type": "execute_result"
    }
   ],
   "source": [
    "shutil.move('C:\\\\Users\\\\DELL\\\\practice.txt',os.getcwd())"
   ]
  },
  {
   "cell_type": "code",
   "execution_count": 20,
   "metadata": {},
   "outputs": [
    {
     "data": {
      "text/plain": [
       "['.git',\n",
       " '.ipynb_checkpoints',\n",
       " 'Advanced python modules.ipynb',\n",
       " 'Opening-and-reading-files-folders.ipynb',\n",
       " 'practice.txt',\n",
       " 'README.md',\n",
       " 'Untitled.ipynb']"
      ]
     },
     "execution_count": 20,
     "metadata": {},
     "output_type": "execute_result"
    }
   ],
   "source": [
    "os.listdir()"
   ]
  },
  {
   "cell_type": "code",
   "execution_count": 21,
   "metadata": {},
   "outputs": [],
   "source": [
    "# for deleting a file or a folder"
   ]
  },
  {
   "cell_type": "code",
   "execution_count": 22,
   "metadata": {},
   "outputs": [],
   "source": [
    "# We will use send2trash "
   ]
  },
  {
   "cell_type": "code",
   "execution_count": 23,
   "metadata": {},
   "outputs": [],
   "source": [
    "import send2trash"
   ]
  },
  {
   "cell_type": "code",
   "execution_count": 24,
   "metadata": {},
   "outputs": [],
   "source": [
    "send2trash.send2trash('practice.txt') # Deleting practice.txt file and sending it to trash"
   ]
  },
  {
   "cell_type": "code",
   "execution_count": 25,
   "metadata": {},
   "outputs": [
    {
     "data": {
      "text/plain": [
       "['.git',\n",
       " '.ipynb_checkpoints',\n",
       " 'Advanced python modules.ipynb',\n",
       " 'Opening-and-reading-files-folders.ipynb',\n",
       " 'README.md',\n",
       " 'Untitled.ipynb']"
      ]
     },
     "execution_count": 25,
     "metadata": {},
     "output_type": "execute_result"
    }
   ],
   "source": [
    "os.listdir()  # As you can observe now practice.txt file is not our current folder"
   ]
  },
  {
   "cell_type": "code",
   "execution_count": 26,
   "metadata": {},
   "outputs": [],
   "source": [
    "# Most useful method of os is walk method it will help you walkthrough the folders, then sub folders and then files "
   ]
  },
  {
   "cell_type": "code",
   "execution_count": 27,
   "metadata": {},
   "outputs": [
    {
     "data": {
      "text/plain": [
       "'C:\\\\Users\\\\DELL\\\\Desktop\\\\Advanced-python-modules'"
      ]
     },
     "execution_count": 27,
     "metadata": {},
     "output_type": "execute_result"
    }
   ],
   "source": [
    "os.getcwd()"
   ]
  },
  {
   "cell_type": "code",
   "execution_count": 31,
   "metadata": {},
   "outputs": [],
   "source": [
    "file_path= 'C:\\\\Users\\\\DELL\\\\Desktop\\\\Advanced-python-modules\\\\Example-top-level'\n",
    "# In my Advanced-python-modules folder i have created a folder Example-top-level, in that folder i have added two new Folders and one file\n",
    "# Mid-example-one, Mid-example-two and Mid-example.txt. Now in Mid-example-one folder i have created two new folders and a file\n",
    "# Bottom-example-one,Bottom-example-two and Bottom-example.txt. Now in Bottom-example-one i have created a file called Bottom-one.txt\n",
    "# Rest of the folders are empty"
   ]
  },
  {
   "cell_type": "code",
   "execution_count": 32,
   "metadata": {},
   "outputs": [
    {
     "name": "stdout",
     "output_type": "stream",
     "text": [
      "Currently looking at C:\\Users\\DELL\\Desktop\\Advanced-python-modules\\Example-top-level\n",
      "\n",
      "\n",
      "The sub folders are: \n",
      "\t Sub folders : Mid-example-one\n",
      "\t Sub folders : Mid-example-two\n",
      "\n",
      "\n",
      "The Files are : \n",
      "\t files : Mid-example.txt\n",
      "\n",
      "\n",
      "Currently looking at C:\\Users\\DELL\\Desktop\\Advanced-python-modules\\Example-top-level\\Mid-example-one\n",
      "\n",
      "\n",
      "The sub folders are: \n",
      "\t Sub folders : Bottom-example-one\n",
      "\t Sub folders : Bottom-example-two\n",
      "\n",
      "\n",
      "The Files are : \n",
      "\t files : Bottom-example.txt\n",
      "\n",
      "\n",
      "Currently looking at C:\\Users\\DELL\\Desktop\\Advanced-python-modules\\Example-top-level\\Mid-example-one\\Bottom-example-one\n",
      "\n",
      "\n",
      "The sub folders are: \n",
      "\n",
      "\n",
      "The Files are : \n",
      "\t files : Bottom-one.txt\n",
      "\n",
      "\n",
      "Currently looking at C:\\Users\\DELL\\Desktop\\Advanced-python-modules\\Example-top-level\\Mid-example-one\\Bottom-example-two\n",
      "\n",
      "\n",
      "The sub folders are: \n",
      "\n",
      "\n",
      "The Files are : \n",
      "\n",
      "\n",
      "Currently looking at C:\\Users\\DELL\\Desktop\\Advanced-python-modules\\Example-top-level\\Mid-example-two\n",
      "\n",
      "\n",
      "The sub folders are: \n",
      "\n",
      "\n",
      "The Files are : \n",
      "\n",
      "\n"
     ]
    }
   ],
   "source": [
    "for folder,sub_folders,files in os.walk(file_path):\n",
    "    print(f\"Currently looking at {folder}\")\n",
    "    print('\\n')\n",
    "    print('The sub folders are: ')\n",
    "    for sub_fold in sub_folders:\n",
    "        print(f'\\t Sub folders : {sub_fold}')\n",
    "    print('\\n')\n",
    "    print('The Files are : ')\n",
    "    for f in files:\n",
    "        print(f'\\t files : {f}')\n",
    "    print('\\n')"
   ]
  },
  {
   "cell_type": "code",
   "execution_count": null,
   "metadata": {},
   "outputs": [],
   "source": []
  }
 ],
 "metadata": {
  "kernelspec": {
   "display_name": "Python 3",
   "language": "python",
   "name": "python3"
  },
  "language_info": {
   "codemirror_mode": {
    "name": "ipython",
    "version": 3
   },
   "file_extension": ".py",
   "mimetype": "text/x-python",
   "name": "python",
   "nbconvert_exporter": "python",
   "pygments_lexer": "ipython3",
   "version": "3.7.3"
  }
 },
 "nbformat": 4,
 "nbformat_minor": 2
}
