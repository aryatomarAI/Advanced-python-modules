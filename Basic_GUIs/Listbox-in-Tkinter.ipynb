{
 "cells": [
  {
   "cell_type": "code",
   "execution_count": 1,
   "metadata": {},
   "outputs": [],
   "source": [
    "# Adding Listbox feature to our GUI "
   ]
  },
  {
   "cell_type": "code",
   "execution_count": 7,
   "metadata": {},
   "outputs": [],
   "source": [
    "from tkinter import *\n",
    "\n",
    "def add():   # Our global function which we will use as Button's command\n",
    "    global i    # global variable\n",
    "    lbx.insert(ACTIVE,f\"{i}\")\n",
    "    i+=1   \n",
    "\n",
    "i=0   # define i \n",
    "\n",
    "root=Tk()    \n",
    "root.geometry(\"500x600\")\n",
    "root.title(\"Listbox Tutorials\")\n",
    "\n",
    "lbx=Listbox(root)    # attaching Listbox module to root\n",
    "lbx.pack()           # packing listbox\n",
    "lbx.insert(END,\"This is the first item of our listbox\")   # Inserting item in our listbox using insert method \n",
    "\n",
    "Button(root,text=\"Add item\",command=add).pack()   # Inserting a button to add more items into our list box\n",
    "\n",
    "root.mainloop()"
   ]
  },
  {
   "cell_type": "code",
   "execution_count": null,
   "metadata": {},
   "outputs": [],
   "source": []
  }
 ],
 "metadata": {
  "kernelspec": {
   "display_name": "Python 3",
   "language": "python",
   "name": "python3"
  },
  "language_info": {
   "codemirror_mode": {
    "name": "ipython",
    "version": 3
   },
   "file_extension": ".py",
   "mimetype": "text/x-python",
   "name": "python",
   "nbconvert_exporter": "python",
   "pygments_lexer": "ipython3",
   "version": "3.7.3"
  }
 },
 "nbformat": 4,
 "nbformat_minor": 2
}
