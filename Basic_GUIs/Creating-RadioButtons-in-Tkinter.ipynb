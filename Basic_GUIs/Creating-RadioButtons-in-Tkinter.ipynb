{
 "cells": [
  {
   "cell_type": "code",
   "execution_count": 11,
   "metadata": {},
   "outputs": [
    {
     "name": "stdout",
     "output_type": "stream",
     "text": [
      "Your order is confirmed\n"
     ]
    }
   ],
   "source": [
    "# Adding Radiobutton feature to our GUI using Radiobutton method in tkinter\n",
    "\n",
    "\n",
    "from tkinter import *\n",
    "import tkinter.messagebox as tmsg\n",
    "\n",
    "root=Tk()\n",
    "root.geometry(\"600x700\")\n",
    "def order():\n",
    "    print(\"Your order is confirmed\")\n",
    "    tmsg.showinfo(\"Your Order!\", f\"We have recieved you order for {var.get()} . Thanks for Ordering\")\n",
    "Label(root,text=\"What would yould you like to have?\",font=\"lucida 15 bold\",justify=LEFT, pady=10).pack()\n",
    "\n",
    "# var=IntVar()\n",
    "var=StringVar()\n",
    "var.set(\"Dosa\")\n",
    "# radio=Radiobutton(root,text=\"Dosa\",padx=15,variable=var,value=1).pack(anchor='w')\n",
    "# radio=Radiobutton(root,text=\"Momos\",padx=15,variable=var,value=2).pack(anchor='w')\n",
    "# radio=Radiobutton(root,text=\"Fried Chicken\",padx=15,variable=var,value=3).pack(anchor='w')\n",
    "# radio=Radiobutton(root,text=\"Pasta\",padx=15,variable=var,value=4).pack(anchor='w')\n",
    "# radio=Radiobutton(root,text=\"Pizza\",padx=15,variable=var,value=5).pack(anchor='w')\n",
    "\n",
    "radio=Radiobutton(root,text=\"Dosa\",padx=15,variable=var,value=\"Dosa\").pack(anchor='w')\n",
    "radio=Radiobutton(root,text=\"Momos\",padx=15,variable=var,value=\"Momos\").pack(anchor='w')\n",
    "radio=Radiobutton(root,text=\"Fried Chicken\",padx=15,variable=var,value=\"Fried Chicken\").pack(anchor='w')\n",
    "radio=Radiobutton(root,text=\"Pasta\",padx=15,variable=var,value=\"Pasta\").pack(anchor='w')\n",
    "radio=Radiobutton(root,text=\"Pizza\",padx=15,variable=var,value=\"Pizza\").pack(anchor='w')\n",
    "\n",
    "\n",
    "Button(text=\"Order Now!!\", command=order).pack()\n",
    "\n",
    "root.mainloop()"
   ]
  },
  {
   "cell_type": "code",
   "execution_count": null,
   "metadata": {},
   "outputs": [],
   "source": []
  }
 ],
 "metadata": {
  "kernelspec": {
   "display_name": "Python 3",
   "language": "python",
   "name": "python3"
  },
  "language_info": {
   "codemirror_mode": {
    "name": "ipython",
    "version": 3
   },
   "file_extension": ".py",
   "mimetype": "text/x-python",
   "name": "python",
   "nbconvert_exporter": "python",
   "pygments_lexer": "ipython3",
   "version": "3.7.3"
  }
 },
 "nbformat": 4,
 "nbformat_minor": 2
}
