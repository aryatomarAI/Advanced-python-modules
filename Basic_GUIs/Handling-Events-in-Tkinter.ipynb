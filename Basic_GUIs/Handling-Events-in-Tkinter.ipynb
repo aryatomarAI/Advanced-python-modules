{
 "cells": [
  {
   "cell_type": "code",
   "execution_count": 2,
   "metadata": {},
   "outputs": [
    {
     "name": "stdout",
     "output_type": "stream",
     "text": [
      " You clicked on the button at 73, 19 \n",
      " You clicked on the button at 78, 19 \n"
     ]
    }
   ],
   "source": [
    "from tkinter import *\n",
    "root=Tk()\n",
    "root.title(\"Events in Tkinter\")\n",
    "def getnum(event):   # You have to give event attribute with the function\n",
    "    print(f\" You clicked on the button at {event.x}, {event.y} \") \n",
    "def quit(event):                           \n",
    "    root.destroy()\n",
    "root.geometry('644x334')\n",
    "widget=Button(root,text=\"Click me please\")  # Defining a Button\n",
    "widget.pack()\n",
    "widget.bind('<Double-1>',quit)     # Double click to exit the window\n",
    "widget.bind('<Button-1>',getnum)   # Binding our button\n",
    "     \n",
    "root.mainloop()"
   ]
  },
  {
   "cell_type": "code",
   "execution_count": null,
   "metadata": {},
   "outputs": [],
   "source": []
  }
 ],
 "metadata": {
  "kernelspec": {
   "display_name": "Python 3",
   "language": "python",
   "name": "python3"
  },
  "language_info": {
   "codemirror_mode": {
    "name": "ipython",
    "version": 3
   },
   "file_extension": ".py",
   "mimetype": "text/x-python",
   "name": "python",
   "nbconvert_exporter": "python",
   "pygments_lexer": "ipython3",
   "version": "3.7.3"
  }
 },
 "nbformat": 4,
 "nbformat_minor": 2
}
