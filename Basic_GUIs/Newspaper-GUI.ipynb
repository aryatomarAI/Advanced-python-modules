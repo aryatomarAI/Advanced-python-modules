{
 "cells": [
  {
   "cell_type": "code",
   "execution_count": 16,
   "metadata": {},
   "outputs": [],
   "source": [
    "from tkinter import *\n",
    "from PIL import Image, ImageTk\n",
    "\n",
    "def every_90(text):\n",
    "    final_text=\"\"\n",
    "    for i in range(0,len(text)):\n",
    "        final_text+=text[i]\n",
    "        if i%200==0 and i!=0:\n",
    "            final_text+=\"\\n\"\n",
    "    return final_text\n",
    "    \n",
    "root=Tk()\n",
    "root.geometry(\"1000x1000\")\n",
    "texts=[]\n",
    "photos=[]\n",
    "for i in range(1,4):\n",
    "    with open(f\"{i}.txt\") as f:\n",
    "        text=f.read()\n",
    "        texts.append(every_90(text))\n",
    "    image=Image.open(f\"{i}.jpg\")\n",
    "    photos.append(ImageTk.PhotoImage(image))\n",
    "    \n",
    "\n",
    "f0=Frame(root,width=800,height=70)\n",
    "Label(f0,text=\"Today's Important News\",font='lucida 33 bold').pack()\n",
    "Label(f0,text=\"March 20,2021\",font='lucida 10 bold').pack()\n",
    "f0.pack()\n",
    "f1=Frame(root,width=900,height=200)\n",
    "Label(f1,text=texts[0]).pack()\n",
    "Label(f1, image=photos[0], anchor='n').pack()\n",
    "f1.pack()\n",
    "\n",
    "root.mainloop()"
   ]
  },
  {
   "cell_type": "code",
   "execution_count": null,
   "metadata": {},
   "outputs": [],
   "source": []
  }
 ],
 "metadata": {
  "kernelspec": {
   "display_name": "Python 3",
   "language": "python",
   "name": "python3"
  },
  "language_info": {
   "codemirror_mode": {
    "name": "ipython",
    "version": 3
   },
   "file_extension": ".py",
   "mimetype": "text/x-python",
   "name": "python",
   "nbconvert_exporter": "python",
   "pygments_lexer": "ipython3",
   "version": "3.7.3"
  }
 },
 "nbformat": 4,
 "nbformat_minor": 2
}
