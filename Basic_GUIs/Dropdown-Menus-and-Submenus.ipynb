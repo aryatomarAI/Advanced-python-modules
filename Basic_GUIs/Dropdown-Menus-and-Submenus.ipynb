{
 "cells": [
  {
   "cell_type": "code",
   "execution_count": 6,
   "metadata": {},
   "outputs": [
    {
     "name": "stdout",
     "output_type": "stream",
     "text": [
      "This is a Menu and sub-menu Demo\n",
      "This is a Menu and sub-menu Demo\n",
      "Closing Current Window\n"
     ]
    }
   ],
   "source": [
    "from tkinter import *\n",
    "root=Tk()\n",
    "root.geometry(\"700x600\")\n",
    "# defining Functions\n",
    "def myfunc():\n",
    "    print(\"This is a Menu and sub-menu Demo\")\n",
    "    \n",
    "def quit():\n",
    "    print(\"Closing Current Window\")\n",
    "    root.destroy()\n",
    "\n",
    "# File \n",
    "# File's Submenu\n",
    "mainmenu=Menu(root)\n",
    "m1=Menu(mainmenu,tearoff=0)\n",
    "m1.add_command(label=\"New Notebook\",command=myfunc)\n",
    "m1.add_command(label=\"Open\",command=myfunc)\n",
    "m1.add_separator()\n",
    "m1.add_command(label=\"Make a Copy\",command=myfunc)\n",
    "m1.add_command(label=\"Save As\",command=myfunc)\n",
    "m1.add_command(label=\"Rename\",command=myfunc)\n",
    "m1.add_command(label=\"Save and Checkpoint\",command=myfunc)\n",
    "m1.add_separator()\n",
    "m1.add_command(label=\"Revert to Checkpoint\",command=myfunc)\n",
    "# adding file element in our main menu\n",
    "mainmenu.add_cascade(label=\"File\", menu=m1)\n",
    "\n",
    "# Edit \n",
    "# Edit's Sub Menu\n",
    "m2=Menu(mainmenu,tearoff=0)\n",
    "m2.add_command(label=\"Cut Cell\",command=myfunc)\n",
    "m2.add_command(label=\"Copy Cell\",command=myfunc)\n",
    "m2.add_command(label=\"Paste Cell Above\",command=myfunc)\n",
    "m2.add_command(label=\"Paste Cell Below\",command=myfunc)\n",
    "m2.add_separator()\n",
    "m2.add_command(label=\"Split Cell\",command=myfunc)\n",
    "m2.add_command(label=\"Merge Cell above\",command=myfunc)\n",
    "m2.add_command(label=\"Merge Cell below \",command=myfunc)\n",
    "# adding elements to our menu\n",
    "mainmenu.add_cascade(label=\"Edit\", menu=m2)\n",
    "\n",
    "mainmenu.add_cascade(label='Exit',command=quit)\n",
    "# Packing our menus and sub-menus \n",
    "root.config(menu=mainmenu)\n",
    "\n",
    "root.mainloop()"
   ]
  },
  {
   "cell_type": "code",
   "execution_count": null,
   "metadata": {},
   "outputs": [],
   "source": []
  }
 ],
 "metadata": {
  "kernelspec": {
   "display_name": "Python 3",
   "language": "python",
   "name": "python3"
  },
  "language_info": {
   "codemirror_mode": {
    "name": "ipython",
    "version": 3
   },
   "file_extension": ".py",
   "mimetype": "text/x-python",
   "name": "python",
   "nbconvert_exporter": "python",
   "pygments_lexer": "ipython3",
   "version": "3.7.3"
  }
 },
 "nbformat": 4,
 "nbformat_minor": 2
}
