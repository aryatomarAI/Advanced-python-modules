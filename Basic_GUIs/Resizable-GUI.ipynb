{
 "cells": [
  {
   "cell_type": "code",
   "execution_count": 45,
   "metadata": {},
   "outputs": [
    {
     "name": "stdout",
     "output_type": "stream",
     "text": [
      "Updating GUI Size\n"
     ]
    }
   ],
   "source": [
    "from tkinter import *\n",
    "\n",
    "def apply_size():\n",
    "    print(\"Updating GUI Size\")\n",
    "    root.geometry(f\"{heightvalue.get()}x{widthvalue.get()}\")\n",
    "\n",
    "root=Tk()\n",
    "root.geometry(\"455x300\")\n",
    "root.title(\"Resizable GUI\")\n",
    "f1=Frame(root, bg='black', border=8, relief=SUNKEN, padx=2)\n",
    "f1.pack(fill='x',side=TOP,pady=10)\n",
    "l=Label(f1,text=\"You can resize this GUI window\", font=\"Lucida 13 bold\", fg='White',bg='black')\n",
    "l.pack()\n",
    "f2=Frame(root)\n",
    "f2.pack(side=TOP)\n",
    "height_in=Label(f2, text=\"GUI Height\", font=\"Lucida 8 bold\")\n",
    "width_in=Label(f2, text=\"GUI Weight\", font=\"Lucida 8 bold\")\n",
    "\n",
    "height_in.grid()\n",
    "width_in.grid(row=1)\n",
    "\n",
    "heightvalue=StringVar()\n",
    "widthvalue=StringVar()\n",
    "\n",
    "heightentry=Entry(f2,textvariable=heightvalue)\n",
    "widthentry=Entry(f2,textvariable=widthvalue)\n",
    "heightentry.grid(row=0,column=1)\n",
    "widthentry.grid(row=1,column=1)\n",
    "\n",
    "Button(root, text=\"Upgarde Dimentions\", command=apply_size).pack( pady=20)\n",
    "\n",
    "root.mainloop()\n",
    "\n",
    "    "
   ]
  },
  {
   "cell_type": "code",
   "execution_count": null,
   "metadata": {},
   "outputs": [],
   "source": []
  }
 ],
 "metadata": {
  "kernelspec": {
   "display_name": "Python 3",
   "language": "python",
   "name": "python3"
  },
  "language_info": {
   "codemirror_mode": {
    "name": "ipython",
    "version": 3
   },
   "file_extension": ".py",
   "mimetype": "text/x-python",
   "name": "python",
   "nbconvert_exporter": "python",
   "pygments_lexer": "ipython3",
   "version": "3.7.3"
  }
 },
 "nbformat": 4,
 "nbformat_minor": 2
}
