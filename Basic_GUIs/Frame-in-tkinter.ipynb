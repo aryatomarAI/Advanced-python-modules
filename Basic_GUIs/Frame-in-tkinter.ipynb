{
 "cells": [
  {
   "cell_type": "code",
   "execution_count": 1,
   "metadata": {},
   "outputs": [],
   "source": [
    "from tkinter import * "
   ]
  },
  {
   "cell_type": "code",
   "execution_count": 3,
   "metadata": {},
   "outputs": [],
   "source": [
    "root=Tk()\n",
    "root.geometry(\"655x333\")\n",
    "f1=Frame(root,bg='grey',borderwidth=6,relief=SUNKEN)\n",
    "f1.pack(side=LEFT,fill=\"y\")\n",
    "f2=Frame(root,borderwidth=8,bg='grey',relief=SUNKEN)\n",
    "f2.pack(side=TOP,fill=\"x\")\n",
    "l=Label(f1,text=\"Project Tkinter-Pycharm\")\n",
    "l.pack(side=TOP)\n",
    "l=Label(f2,text=\"Welcome to my GUI\",font=\"Helvetica 16 bold\",fg='black')\n",
    "l.pack()\n",
    "root.mainloop()"
   ]
  },
  {
   "cell_type": "code",
   "execution_count": null,
   "metadata": {},
   "outputs": [],
   "source": []
  }
 ],
 "metadata": {
  "kernelspec": {
   "display_name": "Python 3",
   "language": "python",
   "name": "python3"
  },
  "language_info": {
   "codemirror_mode": {
    "name": "ipython",
    "version": 3
   },
   "file_extension": ".py",
   "mimetype": "text/x-python",
   "name": "python",
   "nbconvert_exporter": "python",
   "pygments_lexer": "ipython3",
   "version": "3.7.3"
  }
 },
 "nbformat": 4,
 "nbformat_minor": 2
}
