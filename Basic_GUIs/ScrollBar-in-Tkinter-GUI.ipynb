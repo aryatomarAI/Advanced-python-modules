{
 "cells": [
  {
   "cell_type": "code",
   "execution_count": 1,
   "metadata": {},
   "outputs": [],
   "source": [
    "# Adding a scroll bar to our GUI"
   ]
  },
  {
   "cell_type": "code",
   "execution_count": 4,
   "metadata": {},
   "outputs": [],
   "source": [
    "from tkinter import *\n",
    "root=Tk()\n",
    "root.geometry(\"600x700\")\n",
    "root.title(\"ScrollBar in Tkinter\")\n",
    "# For connecting scrollbar to a widget\n",
    "# 1.widget(yscrollcommand=scrollbar.set()/\n",
    "# 2.Scrollbar.config(command=widget.yview)\n",
    "scrollbar=Scrollbar(root)\n",
    "scrollbar.pack(fill=Y,side=RIGHT)\n",
    "listbox=Listbox(root, yscrollcommand=scrollbar.set)\n",
    "for i in range(344):\n",
    "    listbox.insert(END,f\"Item {i}\")\n",
    "listbox.pack(fill=BOTH,padx=22)\n",
    "scrollbar.config(command=listbox.yview)\n",
    "root.mainloop()"
   ]
  },
  {
   "cell_type": "code",
   "execution_count": null,
   "metadata": {},
   "outputs": [],
   "source": []
  }
 ],
 "metadata": {
  "kernelspec": {
   "display_name": "Python 3",
   "language": "python",
   "name": "python3"
  },
  "language_info": {
   "codemirror_mode": {
    "name": "ipython",
    "version": 3
   },
   "file_extension": ".py",
   "mimetype": "text/x-python",
   "name": "python",
   "nbconvert_exporter": "python",
   "pygments_lexer": "ipython3",
   "version": "3.7.3"
  }
 },
 "nbformat": 4,
 "nbformat_minor": 2
}
