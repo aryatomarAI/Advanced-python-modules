{
 "cells": [
  {
   "cell_type": "code",
   "execution_count": 1,
   "metadata": {},
   "outputs": [],
   "source": [
    "from tkinter import *"
   ]
  },
  {
   "cell_type": "code",
   "execution_count": 4,
   "metadata": {},
   "outputs": [
    {
     "name": "stdout",
     "output_type": "stream",
     "text": [
      "Hello Arya\n"
     ]
    }
   ],
   "source": [
    "root=Tk()\n",
    "root.geometry(\"655x333\")\n",
    "def hello():\n",
    "    print(\"Hello Arya\")\n",
    "frame=Frame(root,borderwidth=6,bg='grey',relief=SUNKEN)\n",
    "frame.pack(side=LEFT,anchor='nw')\n",
    "b1=Button(frame,fg='red',text=\"Print Now\")\n",
    "b1.pack(side=LEFT,padx=23)\n",
    "b2=Button(frame,fg='red',text=\"Print Now\")\n",
    "b2.pack(side=LEFT,padx=23)\n",
    "b3=Button(frame,fg='red',text=\"Print Now\",command=hello)\n",
    "b3.pack(side=LEFT,padx=23)\n",
    "root.mainloop()"
   ]
  },
  {
   "cell_type": "code",
   "execution_count": null,
   "metadata": {},
   "outputs": [],
   "source": []
  }
 ],
 "metadata": {
  "kernelspec": {
   "display_name": "Python 3",
   "language": "python",
   "name": "python3"
  },
  "language_info": {
   "codemirror_mode": {
    "name": "ipython",
    "version": 3
   },
   "file_extension": ".py",
   "mimetype": "text/x-python",
   "name": "python",
   "nbconvert_exporter": "python",
   "pygments_lexer": "ipython3",
   "version": "3.7.3"
  }
 },
 "nbformat": 4,
 "nbformat_minor": 2
}
