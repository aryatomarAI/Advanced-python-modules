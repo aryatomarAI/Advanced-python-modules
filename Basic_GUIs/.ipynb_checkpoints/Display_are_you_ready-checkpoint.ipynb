{
 "cells": [
  {
   "cell_type": "code",
   "execution_count": 1,
   "metadata": {},
   "outputs": [],
   "source": [
    "from tkinter import *"
   ]
  },
  {
   "cell_type": "code",
   "execution_count": 12,
   "metadata": {},
   "outputs": [],
   "source": [
    "root=Tk()\n",
    "root.geometry(\"400x500\")\n",
    "root.title(\"Welcome to the future\")\n",
    "my_label=Label(text=\"This will change your life\",bg='blue',fg='white',padx=30,pady=30,font=\"comicsansms 20 bold\",borderwidth=10)\n",
    "my_label2=Label(text=\"Are you Ready?\",bg='red',fg='white',padx=20,pady=20,font=\"comicsansms 20 bold\",borderwidth=10)\n",
    "my_label.pack(side=TOP,fill=X)\n",
    "my_label2.pack(side=BOTTOM,padx=20,pady=20)\n",
    "root.mainloop()"
   ]
  },
  {
   "cell_type": "code",
   "execution_count": null,
   "metadata": {},
   "outputs": [],
   "source": []
  },
  {
   "cell_type": "code",
   "execution_count": null,
   "metadata": {},
   "outputs": [],
   "source": []
  },
  {
   "cell_type": "code",
   "execution_count": null,
   "metadata": {},
   "outputs": [],
   "source": []
  }
 ],
 "metadata": {
  "kernelspec": {
   "display_name": "Python 3",
   "language": "python",
   "name": "python3"
  },
  "language_info": {
   "codemirror_mode": {
    "name": "ipython",
    "version": 3
   },
   "file_extension": ".py",
   "mimetype": "text/x-python",
   "name": "python",
   "nbconvert_exporter": "python",
   "pygments_lexer": "ipython3",
   "version": "3.7.3"
  }
 },
 "nbformat": 4,
 "nbformat_minor": 2
}
