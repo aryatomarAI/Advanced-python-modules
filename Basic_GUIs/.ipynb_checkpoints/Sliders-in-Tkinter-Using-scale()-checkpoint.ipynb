{
 "cells": [
  {
   "cell_type": "code",
   "execution_count": 1,
   "metadata": {},
   "outputs": [],
   "source": [
    "# Adding sliders feature to our GUI using scale()\n"
   ]
  },
  {
   "cell_type": "code",
   "execution_count": 19,
   "metadata": {},
   "outputs": [
    {
     "name": "stdout",
     "output_type": "stream",
     "text": [
      "We have credited 71 dollars into your account\n"
     ]
    }
   ],
   "source": [
    "from tkinter import *\n",
    "import tkinter.messagebox as tmsg\n",
    "root=Tk()\n",
    "root.geometry(\"700x600\")\n",
    "root.title(\"Slider Tutorial\")\n",
    "def getdollar():\n",
    "    print(f\"We have credited {my_slider.get()} dollars into your account\")\n",
    "    tmsg.showinfo(\"Amount Credited\", f\" We have credited {my_slider.get()} dollars into your account\");\n",
    "Label(root,text=\"How many dollars do you want?\",padx=10, pady=10).pack()\n",
    "my_slider=Scale(root,from_=0,to=100,orient=HORIZONTAL,tickinterval=50)\n",
    "my_slider.pack(pady=10)\n",
    "Button(root, text=\"Get dollars!\",pady=10, command=getdollar).pack()\n",
    "root.mainloop()"
   ]
  },
  {
   "cell_type": "code",
   "execution_count": null,
   "metadata": {},
   "outputs": [],
   "source": []
  },
  {
   "cell_type": "code",
   "execution_count": null,
   "metadata": {},
   "outputs": [],
   "source": []
  }
 ],
 "metadata": {
  "kernelspec": {
   "display_name": "Python 3",
   "language": "python",
   "name": "python3"
  },
  "language_info": {
   "codemirror_mode": {
    "name": "ipython",
    "version": 3
   },
   "file_extension": ".py",
   "mimetype": "text/x-python",
   "name": "python",
   "nbconvert_exporter": "python",
   "pygments_lexer": "ipython3",
   "version": "3.7.3"
  }
 },
 "nbformat": 4,
 "nbformat_minor": 2
}
