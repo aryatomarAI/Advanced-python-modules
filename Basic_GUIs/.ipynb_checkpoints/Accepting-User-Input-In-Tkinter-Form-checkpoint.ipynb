{
 "cells": [
  {
   "cell_type": "code",
   "execution_count": 2,
   "metadata": {},
   "outputs": [
    {
     "name": "stdout",
     "output_type": "stream",
     "text": [
      "Your form is Submitted\n",
      "('Arya ', '6738992002', 'Male', '8956728990', 'Card', 1)\n",
      "Your form is Submitted\n",
      "('Himanshu ', '7837782993', 'Male', '8927893739', 'Paytm', 0)\n"
     ]
    }
   ],
   "source": [
    "\n",
    "# Accepting User Input and storing this data into a txt file \n",
    "\n",
    "\n",
    "from tkinter import *\n",
    "root=Tk()\n",
    "# Defining our getvals function which we will use inthe end with button method\n",
    "def getvals():\n",
    "    print(\"Your form is Submitted\")\n",
    "    print(f\"{namevalue.get(),phonevalue.get(),gendervalue.get(),emergency_numbervalue.get(),payment_modevalue.get(),foodservicevalue.get()}\")\n",
    "    with open('records.txt','a') as f:\n",
    "        f.write(f\"{namevalue.get(),phonevalue.get(),gendervalue.get(),emergency_numbervalue.get(),payment_modevalue.get(),foodservicevalue.get()}\")\n",
    "root.geometry(\"655x344\")\n",
    "# main Label \n",
    "Label(root,text=\"Welcome to lone travellers\",font=\"comicsansms 18 bold\").grid(row=0,column=3)\n",
    "# Defining our columns using Label\n",
    "name=Label(root,text=\"Name\")\n",
    "phone=Label(root,text=\"Phone Number\")\n",
    "gender=Label(root, text=\"Gender\")\n",
    "emergency_number=Label(root, text=\"Emergency Number\")\n",
    "payment_mode=Label(root, text=\"Mode of Payment\")\n",
    "\n",
    "# Positioning Our Columns\n",
    "name.grid(row=1, column=2)      \n",
    "phone.grid(row=2,column=2)\n",
    "gender.grid(row=3, column=2)\n",
    "emergency_number.grid(row=4,column=2)\n",
    "payment_mode.grid(row=5,column=2)\n",
    "\n",
    "# Defining Data Types of each columns \n",
    "namevalue=StringVar()\n",
    "phonevalue=StringVar()\n",
    "gendervalue=StringVar()\n",
    "emergency_numbervalue=StringVar()\n",
    "payment_modevalue=StringVar()\n",
    "foodservicevalue=IntVar()\n",
    "\n",
    "# Accepting User Input\n",
    "nameentry=Entry(root,textvariable=namevalue).grid(row=1,column=3)\n",
    "phoneentry=Entry(root,textvariable=phonevalue).grid(row=2,column=3)\n",
    "genderentry=Entry(root,textvariable=gendervalue).grid(row=3, column=3)\n",
    "emergencyentry=Entry(root,textvariable=emergency_numbervalue).grid(row=4,column=3)\n",
    "paymententry=Entry(root, textvariable=payment_modevalue).grid(row=5,column=3)\n",
    "\n",
    "# Check box if you want food service or not\n",
    "foodservice=Checkbutton(text=\"Want to prebook your meal\",variable=foodservicevalue).grid(row=6,column=3)\n",
    "\n",
    "# Defining our submit Button\n",
    "Button(text=\"Submit to Lone Travellers\",command=getvals).grid(row=7, column=3)\n",
    "\n",
    "\n",
    "root.mainloop()"
   ]
  },
  {
   "cell_type": "code",
   "execution_count": null,
   "metadata": {},
   "outputs": [],
   "source": []
  }
 ],
 "metadata": {
  "kernelspec": {
   "display_name": "Python 3",
   "language": "python",
   "name": "python3"
  },
  "language_info": {
   "codemirror_mode": {
    "name": "ipython",
    "version": 3
   },
   "file_extension": ".py",
   "mimetype": "text/x-python",
   "name": "python",
   "nbconvert_exporter": "python",
   "pygments_lexer": "ipython3",
   "version": "3.7.3"
  }
 },
 "nbformat": 4,
 "nbformat_minor": 2
}
