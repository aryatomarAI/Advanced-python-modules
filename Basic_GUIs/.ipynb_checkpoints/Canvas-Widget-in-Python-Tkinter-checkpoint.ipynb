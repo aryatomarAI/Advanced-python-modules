{
 "cells": [
  {
   "cell_type": "code",
   "execution_count": 6,
   "metadata": {},
   "outputs": [],
   "source": [
    "from tkinter import *\n",
    "root=Tk()\n",
    "canvas_width=800\n",
    "canvas_height=400\n",
    "root.geometry(f\"{canvas_width}x{canvas_height}\")\n",
    "root.title('Welcome to my GUI')\n",
    "# Binding Canvas  with our root\n",
    "canv=Canvas(root,width=canvas_width,height=canvas_height)\n",
    "canv.pack()\n",
    "# Create_line attributes: The line goes from x1, y1 to x2, y2\n",
    "canv.create_line(0,150,800,150,fill='red')\n",
    "canv.create_line(0,250,800,250,fill='red')\n",
    "# Create_rectangle attributes: Top left coordinates and bottom right coordinates required\n",
    "canv.create_rectangle(300,100,500,300,fill='blue')\n",
    "# Create Text\n",
    "canv.create_text(400,200,text=\"Boom\",fill='white',font='comicsansms 20 bold')\n",
    "root.mainloop()"
   ]
  },
  {
   "cell_type": "code",
   "execution_count": null,
   "metadata": {},
   "outputs": [],
   "source": []
  }
 ],
 "metadata": {
  "kernelspec": {
   "display_name": "Python 3",
   "language": "python",
   "name": "python3"
  },
  "language_info": {
   "codemirror_mode": {
    "name": "ipython",
    "version": 3
   },
   "file_extension": ".py",
   "mimetype": "text/x-python",
   "name": "python",
   "nbconvert_exporter": "python",
   "pygments_lexer": "ipython3",
   "version": "3.7.3"
  }
 },
 "nbformat": 4,
 "nbformat_minor": 2
}
