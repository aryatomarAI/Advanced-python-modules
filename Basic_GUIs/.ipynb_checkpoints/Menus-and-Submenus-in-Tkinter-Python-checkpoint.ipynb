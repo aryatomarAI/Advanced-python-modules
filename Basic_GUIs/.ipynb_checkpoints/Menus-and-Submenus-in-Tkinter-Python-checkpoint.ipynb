{
 "cells": [
  {
   "cell_type": "code",
   "execution_count": 1,
   "metadata": {},
   "outputs": [
    {
     "name": "stdout",
     "output_type": "stream",
     "text": [
      "This is a Demo Window(GUI)\n",
      "This is a Demo Window(GUI)\n",
      "Bye\n"
     ]
    }
   ],
   "source": [
    "from tkinter import *\n",
    "root=Tk()\n",
    "def myfunc():\n",
    "    print(\"This is a Demo Window(GUI)\")\n",
    "def quit():\n",
    "    print(\"Bye\")\n",
    "    root.destroy()\n",
    "root.geometry(\"700x600\")\n",
    "root.title('Jupyter Notebbok')\n",
    "# We will create a horizontal main menu which is non-dropable\n",
    "mymenu=Menu(root)\n",
    "# Adding elements to our menu\n",
    "mymenu.add_command(label=\"File\", command=myfunc)\n",
    "mymenu.add_command(label=\"Edit\", command=myfunc)\n",
    "mymenu.add_command(label=\"View\", command=myfunc)\n",
    "mymenu.add_command(label=\"Insert\", command=myfunc)\n",
    "mymenu.add_command(label=\"Cell\", command=myfunc)\n",
    "mymenu.add_command(label=\"Kernel\", command=myfunc)\n",
    "mymenu.add_command(label=\"Exit\", command=quit)\n",
    "# Configuring our main menu   or packing our main menu\n",
    "root.config(menu=mymenu)\n",
    "root.mainloop()"
   ]
  },
  {
   "cell_type": "code",
   "execution_count": null,
   "metadata": {},
   "outputs": [],
   "source": []
  }
 ],
 "metadata": {
  "kernelspec": {
   "display_name": "Python 3",
   "language": "python",
   "name": "python3"
  },
  "language_info": {
   "codemirror_mode": {
    "name": "ipython",
    "version": 3
   },
   "file_extension": ".py",
   "mimetype": "text/x-python",
   "name": "python",
   "nbconvert_exporter": "python",
   "pygments_lexer": "ipython3",
   "version": "3.7.3"
  }
 },
 "nbformat": 4,
 "nbformat_minor": 2
}
