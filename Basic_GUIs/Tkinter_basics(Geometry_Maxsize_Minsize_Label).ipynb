{
 "cells": [
  {
   "cell_type": "code",
   "execution_count": 3,
   "metadata": {},
   "outputs": [],
   "source": [
    "from tkinter import *"
   ]
  },
  {
   "cell_type": "code",
   "execution_count": 12,
   "metadata": {},
   "outputs": [],
   "source": [
    "root1=Tk()\n",
    "root1.geometry(\"444x234\") # Geometry of our GUI Window ,attributes: Width x Height\n",
    "root1.minsize(400,400)  # You can't minimise the size of tk window below theses pararmeters. parameters are Width, Height\n",
    "root1.maxsize(1000,1000)  # Maximum size of your GUI window\n",
    "# Let's add label to our window\n",
    "# User does not interact with labels\n",
    "text_label=Label(text=\"Hey, My name is Arya and this is my GUI\")\n",
    "text_label.pack()    # Without packing our label, you can't see text on your GUI Window\n",
    "root1.mainloop()"
   ]
  },
  {
   "cell_type": "code",
   "execution_count": null,
   "metadata": {},
   "outputs": [],
   "source": []
  }
 ],
 "metadata": {
  "kernelspec": {
   "display_name": "Python 3",
   "language": "python",
   "name": "python3"
  },
  "language_info": {
   "codemirror_mode": {
    "name": "ipython",
    "version": 3
   },
   "file_extension": ".py",
   "mimetype": "text/x-python",
   "name": "python",
   "nbconvert_exporter": "python",
   "pygments_lexer": "ipython3",
   "version": "3.7.3"
  }
 },
 "nbformat": 4,
 "nbformat_minor": 2
}
