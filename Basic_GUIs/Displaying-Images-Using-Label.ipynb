{
 "cells": [
  {
   "cell_type": "code",
   "execution_count": 2,
   "metadata": {},
   "outputs": [],
   "source": [
    "from tkinter import *\n",
    "from PIL import Image, ImageTk"
   ]
  },
  {
   "cell_type": "code",
   "execution_count": 3,
   "metadata": {},
   "outputs": [],
   "source": [
    "my_root=Tk()\n",
    "my_root.geometry('600x600')\n",
    "# for jpg Files\n",
    "image=Image.open(\"Flower_image.jpg\")\n",
    "image1=image.resize((550,550))\n",
    "photo=ImageTk.PhotoImage(image1)\n",
    "\n",
    "label_1=Label(text=\"A beautiful Photograph of Flowers\")\n",
    "label_2=Label(image=photo)\n",
    "label_1.pack()\n",
    "label_2.pack()\n",
    "my_root.mainloop()"
   ]
  },
  {
   "cell_type": "code",
   "execution_count": null,
   "metadata": {},
   "outputs": [],
   "source": []
  }
 ],
 "metadata": {
  "kernelspec": {
   "display_name": "Python 3",
   "language": "python",
   "name": "python3"
  },
  "language_info": {
   "codemirror_mode": {
    "name": "ipython",
    "version": 3
   },
   "file_extension": ".py",
   "mimetype": "text/x-python",
   "name": "python",
   "nbconvert_exporter": "python",
   "pygments_lexer": "ipython3",
   "version": "3.7.3"
  }
 },
 "nbformat": 4,
 "nbformat_minor": 2
}
