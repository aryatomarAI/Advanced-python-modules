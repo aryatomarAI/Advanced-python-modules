{
 "cells": [
  {
   "cell_type": "code",
   "execution_count": 1,
   "metadata": {},
   "outputs": [],
   "source": [
    "from tkinter import *"
   ]
  },
  {
   "cell_type": "code",
   "execution_count": 26,
   "metadata": {},
   "outputs": [],
   "source": [
    "root=Tk()\n",
    "root.geometry(\"444x333\")\n",
    "root.title(\"My GUI\")\n",
    "# Important Label Options\n",
    "# text - adds the text\n",
    "# bd -background\n",
    "# fg - foreground\n",
    "#font -sets the font\n",
    "# padx - x padding \n",
    "# pady - y padding\n",
    "# relief - border styling - SUNKEN, RAISED, GROOVE, RIDGE\n",
    "title_label= Label(text='''Musk was born to a Canadian mother and South African father and raised in Pretoria, South Africa.\\nHe briefly attended the University of Pretoria before moving to Canada aged 17 to attend Queen's University. \\nHe transferred to the University of Pennsylvania two years later,\\n where he received dual bachelor's degrees in economics and physics. \\nHe moved to California in 1995 to attend Stanford University but decided instead to pursue a business career, \\nco-founding web software company Zip2 with his brother Kimbal. \\nThe startup was acquired by Compaq for $307 million in 1999. Musk co-founded online bank X.com that same year,\\n which merged with Confinity in 2000 to form the company PayPal and\\n was subsequently bought by eBay in 2002 for $1.5 billion.\n",
    "''',bg='red',fg='white',padx=23,pady=44,font=\"comicsansms 10 bold\",borderwidth=3,relief=SUNKEN)\n",
    "# Important pack options\n",
    "# anchor=se or nw\n",
    "# side=BOTTOM, RIGHT, LEFT, TOP\n",
    "# fill =x or y\n",
    "title_label.pack(side=BOTTOM,fill=X,anchor='sw',padx=20,pady=20)\n",
    "root.mainloop()\n"
   ]
  },
  {
   "cell_type": "code",
   "execution_count": 8,
   "metadata": {},
   "outputs": [],
   "source": [
    "s=['1','5']\n",
    "args=s[0:]\n",
    "cmd='insert'\n",
    "cmd += \"(\"+ \",\".join(args) +\")\""
   ]
  },
  {
   "cell_type": "code",
   "execution_count": 9,
   "metadata": {},
   "outputs": [
    {
     "data": {
      "text/plain": [
       "'insert(1,5)'"
      ]
     },
     "execution_count": 9,
     "metadata": {},
     "output_type": "execute_result"
    }
   ],
   "source": [
    "cmd"
   ]
  },
  {
   "cell_type": "code",
   "execution_count": null,
   "metadata": {},
   "outputs": [],
   "source": []
  }
 ],
 "metadata": {
  "kernelspec": {
   "display_name": "Python 3",
   "language": "python",
   "name": "python3"
  },
  "language_info": {
   "codemirror_mode": {
    "name": "ipython",
    "version": 3
   },
   "file_extension": ".py",
   "mimetype": "text/x-python",
   "name": "python",
   "nbconvert_exporter": "python",
   "pygments_lexer": "ipython3",
   "version": "3.7.3"
  }
 },
 "nbformat": 4,
 "nbformat_minor": 2
}
