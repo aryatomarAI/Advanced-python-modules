{
 "cells": [
  {
   "cell_type": "code",
   "execution_count": 3,
   "metadata": {},
   "outputs": [],
   "source": []
  },
  {
   "cell_type": "code",
   "execution_count": 14,
   "metadata": {},
   "outputs": [
    {
     "name": "stdout",
     "output_type": "stream",
     "text": [
      "Rate Us\n"
     ]
    }
   ],
   "source": [
    "from tkinter import *\n",
    "import tkinter.messagebox as tmsg\n",
    "\n",
    "\n",
    "\n",
    "def my_func():\n",
    "    print(\"This is a Demo Window\")\n",
    "    \n",
    "def help1():\n",
    "    print(\"Need some help with this GUI??\")\n",
    "    tmsg.showinfo(\"I can show you how to use this GUI\");\n",
    "    \n",
    "def rate_us():\n",
    "    print(\"Rate Us\")\n",
    "    value=tmsg.askquestion(\"Was Your Expirence Good?\")\n",
    "    if value=='yes':\n",
    "        msg=\"Great, rate us on appstore please !!\"\n",
    "    else:\n",
    "        msg=\"Tell us what went wrong. We will contact you soon\"\n",
    "    tmsg.showinfo(\"Expirence\", msg)\n",
    "    \n",
    "def divya():\n",
    "    ans=tmsg.askretrycancel(\"Chaloge Humare Sath, Chaloge Humare Dost\")\n",
    "    if ans:\n",
    "        print(\"Nice now you're Jaddu's friend\")\n",
    "    else:\n",
    "        print(\"Please give me a chance i will be a good friend\")\n",
    "    \n",
    "root=Tk()\n",
    "root.geometry(\"700x800\")\n",
    "root.title(\"Jupyter Notebook\")\n",
    "\n",
    "my_gui_menu=Menu(root)\n",
    "m1=Menu(my_gui_menu,tearoff=0)\n",
    "m1.add_command(label='New Notebook',command=my_func)\n",
    "m1.add_command(label=\"Open\", command=my_func)\n",
    "my_gui_menu.add_cascade(label=\"File\",menu=m1)\n",
    "\n",
    "\n",
    "m2=Menu(my_gui_menu,tearoff=0)\n",
    "m2.add_command(label=\"Cut Cells\", command=my_func)\n",
    "m2.add_command(label=\"Copy Cells\", command=my_func)\n",
    "my_gui_menu.add_cascade(label=\"Edit\", menu=m2)\n",
    "\n",
    "\n",
    "m3=Menu(my_gui_menu,tearoff=0)\n",
    "m3.add_command(label=\"Toggle Header\", command=my_func)\n",
    "m3.add_command(label=\"Toggle Toolbar\", command=my_func)\n",
    "my_gui_menu.add_cascade(label=\"View\", menu=m3)\n",
    "\n",
    "\n",
    "m4=Menu(my_gui_menu,tearoff=0)\n",
    "m4.add_command(label=\"Insert Cell Above\", command=my_func)\n",
    "m4.add_command(label=\"Insert Cell Below\", command=my_func)\n",
    "my_gui_menu.add_cascade(label=\"Insert\", menu=m4)\n",
    "\n",
    "\n",
    "m5=Menu(my_gui_menu, tearoff=0)\n",
    "m5.add_command(label=\"Help\",command=help1)\n",
    "m5.add_command(label=\"Rate Us\", command=rate_us)\n",
    "m5.add_command(label=\"Be my friend\", command=divya)\n",
    "my_gui_menu.add_cascade(label='Help',menu=m5)\n",
    "\n",
    "\n",
    "root.config(menu=my_gui_menu)\n",
    "\n",
    "root.mainloop()\n",
    "\n"
   ]
  },
  {
   "cell_type": "code",
   "execution_count": null,
   "metadata": {},
   "outputs": [],
   "source": []
  }
 ],
 "metadata": {
  "kernelspec": {
   "display_name": "Python 3",
   "language": "python",
   "name": "python3"
  },
  "language_info": {
   "codemirror_mode": {
    "name": "ipython",
    "version": 3
   },
   "file_extension": ".py",
   "mimetype": "text/x-python",
   "name": "python",
   "nbconvert_exporter": "python",
   "pygments_lexer": "ipython3",
   "version": "3.7.3"
  }
 },
 "nbformat": 4,
 "nbformat_minor": 2
}
