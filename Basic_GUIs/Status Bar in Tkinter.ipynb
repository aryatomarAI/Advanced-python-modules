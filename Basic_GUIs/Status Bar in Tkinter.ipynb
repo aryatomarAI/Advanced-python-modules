{
 "cells": [
  {
   "cell_type": "code",
   "execution_count": 7,
   "metadata": {},
   "outputs": [],
   "source": [
    "from tkinter import *\n",
    "import time\n",
    "\n",
    "def upload():   # Our upload button function\n",
    "    statusvar.set(\"Uploading Please Wait...\")\n",
    "    sbar.update()\n",
    "    time.sleep(3)   # Time Delay\n",
    "    statusvar.set(\"Your File is Ready\")\n",
    "\n",
    "root=Tk()\n",
    "root.geometry(\"455x255\")\n",
    "root.title(\"Status Bar\")\n",
    "\n",
    "statusvar=StringVar() \n",
    "statusvar.set(\"Ready\")  # Set Statusvar to text \"Ready\"\n",
    "sbar=Label(root, textvariable=statusvar, relief=SUNKEN, anchor=\"w\")\n",
    "sbar.pack(side=BOTTOM, fill=\"x\")\n",
    "\n",
    "Button(root, text=\"Upload\", command=upload).pack()\n",
    "\n",
    "root.mainloop()\n"
   ]
  },
  {
   "cell_type": "code",
   "execution_count": null,
   "metadata": {},
   "outputs": [],
   "source": []
  }
 ],
 "metadata": {
  "kernelspec": {
   "display_name": "Python 3",
   "language": "python",
   "name": "python3"
  },
  "language_info": {
   "codemirror_mode": {
    "name": "ipython",
    "version": 3
   },
   "file_extension": ".py",
   "mimetype": "text/x-python",
   "name": "python",
   "nbconvert_exporter": "python",
   "pygments_lexer": "ipython3",
   "version": "3.7.3"
  }
 },
 "nbformat": 4,
 "nbformat_minor": 2
}
