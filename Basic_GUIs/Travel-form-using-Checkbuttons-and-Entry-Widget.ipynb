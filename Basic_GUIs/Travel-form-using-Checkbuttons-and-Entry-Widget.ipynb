{
 "cells": [
  {
   "cell_type": "code",
   "execution_count": 6,
   "metadata": {},
   "outputs": [],
   "source": [
    "from tkinter import *\n",
    "root=Tk()\n",
    "def getvals():\n",
    "    print(\"Your Form is Submitted\")\n",
    "root.geometry(\"655x344\")\n",
    "Label(root,text=\"Welcome to lone travellers\",font=\"comicsansms 18 bold\").grid(row=0,column=3)\n",
    "name=Label(root,text=\"Name\")\n",
    "phone=Label(root,text=\"Phone Number\")\n",
    "gender=Label(root, text=\"Gender\")\n",
    "emergency_number=Label(root, text=\"Emergency Number\")\n",
    "payment_mode=Label(root, text=\"Mode of Payment\")\n",
    "\n",
    "name.grid(row=1, column=2)\n",
    "phone.grid(row=2,column=2)\n",
    "gender.grid(row=3, column=2)\n",
    "emergency_number.grid(row=4,column=2)\n",
    "payment_mode.grid(row=5,column=2)\n",
    "\n",
    "namevalue=StringVar()\n",
    "phonevalue=StringVar()\n",
    "gendervalue=StringVar()\n",
    "emergency_numbervalue=StringVar()\n",
    "payment_modevalue=StringVar()\n",
    "foodservicevalue=IntVar()\n",
    "\n",
    "nameentry=Entry(root,textvariable=namevalue).grid(row=1,column=3)\n",
    "phoneentry=Entry(root,textvariable=phonevalue).grid(row=2,column=3)\n",
    "genderentry=Entry(root,textvariable=gendervalue).grid(row=3, column=3)\n",
    "emergencyentry=Entry(root,textvariable=emergency_numbervalue).grid(row=4,column=3)\n",
    "paymententry=Entry(root, textvariable=payment_modevalue).grid(row=5,column=3)\n",
    "\n",
    "foodservice=Checkbutton(text=\"Want to prebook your meal\",variable=foodservicevalue).grid(row=6,column=3)\n",
    "\n",
    "Button(text=\"Submit to Lone Travellers\",command=getvals).grid(row=7, column=3)\n",
    "\n",
    "\n",
    "root.mainloop()"
   ]
  },
  {
   "cell_type": "code",
   "execution_count": null,
   "metadata": {},
   "outputs": [],
   "source": []
  }
 ],
 "metadata": {
  "kernelspec": {
   "display_name": "Python 3",
   "language": "python",
   "name": "python3"
  },
  "language_info": {
   "codemirror_mode": {
    "name": "ipython",
    "version": 3
   },
   "file_extension": ".py",
   "mimetype": "text/x-python",
   "name": "python",
   "nbconvert_exporter": "python",
   "pygments_lexer": "ipython3",
   "version": "3.7.3"
  }
 },
 "nbformat": 4,
 "nbformat_minor": 2
}
