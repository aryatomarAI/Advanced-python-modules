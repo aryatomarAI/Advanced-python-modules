{
 "cells": [
  {
   "cell_type": "code",
   "execution_count": 12,
   "metadata": {},
   "outputs": [
    {
     "name": "stdout",
     "output_type": "stream",
     "text": [
      "Button Clicked\n",
      "Button Clicked\n",
      "Button Clicked\n",
      "Button Clicked\n"
     ]
    }
   ],
   "source": [
    "from tkinter import *\n",
    "\n",
    "class GUI(Tk):\n",
    "    def __init__(self):\n",
    "        super().__init__()\n",
    "        self.geometry(\"744x377\")\n",
    "        \n",
    "    def status(self):\n",
    "        self.var=StringVar()\n",
    "        self.var.set(\"Ready\")\n",
    "        self.statusbar=Label(self,textvar=self.var,relief=SUNKEN,anchor='w')\n",
    "        self.statusbar.pack(side=BOTTOM,fill=X)\n",
    "    \n",
    "    def create_button(self,inptext):\n",
    "        Button(self,text=inptext,command=self.click).pack()\n",
    "        \n",
    "    def click(self):\n",
    "        print(\"Button Clicked\")\n",
    "\n",
    "window=GUI()\n",
    "window.status()\n",
    "window.create_button(\"Click the button\")\n",
    "window.click()\n",
    "window.mainloop()\n",
    "    \n",
    "    \n",
    "    "
   ]
  },
  {
   "cell_type": "code",
   "execution_count": null,
   "metadata": {},
   "outputs": [],
   "source": []
  }
 ],
 "metadata": {
  "kernelspec": {
   "display_name": "Python 3",
   "language": "python",
   "name": "python3"
  },
  "language_info": {
   "codemirror_mode": {
    "name": "ipython",
    "version": 3
   },
   "file_extension": ".py",
   "mimetype": "text/x-python",
   "name": "python",
   "nbconvert_exporter": "python",
   "pygments_lexer": "ipython3",
   "version": "3.7.3"
  }
 },
 "nbformat": 4,
 "nbformat_minor": 2
}
