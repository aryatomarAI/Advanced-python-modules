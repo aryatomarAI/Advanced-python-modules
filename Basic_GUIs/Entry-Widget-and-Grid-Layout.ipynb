{
 "cells": [
  {
   "cell_type": "code",
   "execution_count": 1,
   "metadata": {},
   "outputs": [],
   "source": [
    "# Entry Widget and grid Layout in Tkinter"
   ]
  },
  {
   "cell_type": "code",
   "execution_count": 6,
   "metadata": {},
   "outputs": [],
   "source": [
    "from tkinter import *"
   ]
  },
  {
   "cell_type": "code",
   "execution_count": 7,
   "metadata": {},
   "outputs": [
    {
     "name": "stdout",
     "output_type": "stream",
     "text": [
      "Sorabh Singh\n",
      "45399850\n"
     ]
    }
   ],
   "source": [
    "root=Tk()\n",
    "root.geometry(\"655x333\")\n",
    "def getvals():\n",
    "    print(uservalue.get())\n",
    "    print(passvalue.get())\n",
    "usera=Label(root, text=\"Username\")\n",
    "password=Label(root,text=\"password\")\n",
    "usera.grid()\n",
    "password.grid(row=1)\n",
    "# Variable Classes in Tkinter\n",
    "# Boolean var, Double var, Int var, String var\n",
    "uservalue=StringVar()\n",
    "passvalue=StringVar()\n",
    "userentry=Entry(root,textvariable=uservalue)\n",
    "passentry=Entry(root,textvariable=passvalue)\n",
    "userentry.grid(row=0,column=1)\n",
    "passentry.grid(row=1,column=1)\n",
    "Button(text='Submit',command=getvals).grid()\n",
    "root.mainloop()"
   ]
  },
  {
   "cell_type": "code",
   "execution_count": null,
   "metadata": {},
   "outputs": [],
   "source": []
  }
 ],
 "metadata": {
  "kernelspec": {
   "display_name": "Python 3",
   "language": "python",
   "name": "python3"
  },
  "language_info": {
   "codemirror_mode": {
    "name": "ipython",
    "version": 3
   },
   "file_extension": ".py",
   "mimetype": "text/x-python",
   "name": "python",
   "nbconvert_exporter": "python",
   "pygments_lexer": "ipython3",
   "version": "3.7.3"
  }
 },
 "nbformat": 4,
 "nbformat_minor": 2
}
