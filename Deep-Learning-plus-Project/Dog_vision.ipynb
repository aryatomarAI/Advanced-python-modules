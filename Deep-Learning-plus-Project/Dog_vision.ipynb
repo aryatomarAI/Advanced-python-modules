{
  "nbformat": 4,
  "nbformat_minor": 0,
  "metadata": {
    "kernelspec": {
      "display_name": "Python 3",
      "language": "python",
      "name": "python3"
    },
    "language_info": {
      "codemirror_mode": {
        "name": "ipython",
        "version": 3
      },
      "file_extension": ".py",
      "mimetype": "text/x-python",
      "name": "python",
      "nbconvert_exporter": "python",
      "pygments_lexer": "ipython3",
      "version": "3.7.9"
    },
    "colab": {
      "name": "Dog-vision.ipynb",
      "provenance": [],
      "collapsed_sections": [],
      "toc_visible": true,
      "include_colab_link": true
    },
    "accelerator": "GPU"
  },
  "cells": [
    {
      "cell_type": "markdown",
      "metadata": {
        "id": "view-in-github",
        "colab_type": "text"
      },
      "source": [
        "<a href=\"https://colab.research.google.com/github/aryatomarAI/Advanced-python-modules/blob/main/Deep-Learning-plus-Project/Dog_vision.ipynb\" target=\"_parent\"><img src=\"https://colab.research.google.com/assets/colab-badge.svg\" alt=\"Open In Colab\"/></a>"
      ]
    },
    {
      "cell_type": "markdown",
      "metadata": {
        "id": "RrtdG4z_Bg9R"
      },
      "source": [
        "# 🐕‍🦺 Using Tensorflow 2.0 and Transfer learning to classify different dog breeds\n",
        "This notebook builds an end-to-end multi-class image classifier using Tensorflow and Tensorflow Hub\n",
        "\n",
        "We're using Kaggle Dog Identification competition\n",
        "## 1. Problem\n",
        "   Identifying the breed of a dog given an image of a dog.\n",
        "## 2. Data\n",
        "   The data we're using is from [Kaggle's dog breed identification competition](https://www.kaggle.com/c/dog-breed-identification/data)\n",
        "## 3. Evaluation\n",
        "   The evaluation is a file with prediction probabilities for each dog breed of each test image.\n",
        "\n",
        "   [Evaluated on Multi Class Log Loss between the predicted probability and the observed target](https://www.kaggle.com/c/dog-breed-identification/overview/evaluation)\n",
        "\n",
        "## 4. Features\n",
        "\n",
        "Some Information about the data:\n",
        "\n",
        "We're dealing with images (Unstructured data).\n",
        "It consists of a collection of 10,000+ labelled images of 120 different dog breeds.\n",
        "\n",
        "This kind of problem is called multi-class image classification. It's multi-class because we're trying to classify mutliple different breeds of dog. If we were only trying to classify dogs versus cats, it would be called binary classification (one thing versus another).\n",
        "\n",
        "Since the most important step in a deep learng problem is getting the data ready (turning it into numbers), that's what we're going to start with.\n",
        "\n",
        "We're going to go through the following TensorFlow/Deep Learning workflow:\n",
        "1. Get data ready (download from Kaggle, store, import).\n",
        "2. Prepare the data (preprocessing, the 3 sets, X & y).\n",
        "3. Choose and fit/train a model ([TensorFlow Hub](https://www.tensorflow.org/hub), `tf.keras.applications`, [TensorBoard](https://www.tensorflow.org/tensorboard), [EarlyStopping](https://www.tensorflow.org/api_docs/python/tf/keras/callbacks/EarlyStopping)).\n",
        "4. Evaluating a model (making predictions, comparing them with the ground truth labels).\n",
        "5. Improve the model through experimentation (start with 1000 images, make sure it works, increase the number of images).\n",
        "6. Save, sharing and reloading your model (once you're happy with the results).\n",
        "\n",
        "For preprocessing our data, we're going to use TensorFlow 2.x. The whole premise here is to get our data into Tensors (arrays of numbers which can be run on GPUs) and then allow a machine learning model to find patterns between them.\n",
        "\n",
        "For our machine learning model, we're going to be using a pretrained deep learning model from TensorFlow Hub.\n",
        "\n",
        "\n"
      ]
    },
    {
      "cell_type": "markdown",
      "metadata": {
        "id": "OCUylKUIHamk"
      },
      "source": [
        "## Get our Workspace ready"
      ]
    },
    {
      "cell_type": "code",
      "metadata": {
        "id": "KNsQiuayJbxa",
        "colab": {
          "base_uri": "https://localhost:8080/"
        },
        "outputId": "535edea5-b311-41fc-ae53-952ce1c22fd7"
      },
      "source": [
        "# Import Tensorflow into colab\n",
        "import tensorflow as tf\n",
        "print(\"We are using Tensor flow version\",tf.__version__)"
      ],
      "execution_count": 3,
      "outputs": [
        {
          "output_type": "stream",
          "text": [
            "We are using Tensor flow version 2.4.1\n"
          ],
          "name": "stdout"
        }
      ]
    },
    {
      "cell_type": "code",
      "metadata": {
        "id": "hh7VPGQ3q6sT",
        "colab": {
          "base_uri": "https://localhost:8080/"
        },
        "outputId": "a3519393-8858-450b-97e0-1a8ada20111a"
      },
      "source": [
        "# Importing Tensflow_hub and checking for GPU \n",
        "import tensorflow_hub as hub\n",
        "print(\"Tensorflow hub version:\",hub.__version__)\n",
        "\n",
        "print(\"GPU\",\"available\" if tf.config.list_physical_devices(\"GPU\") else \"not available\")"
      ],
      "execution_count": 4,
      "outputs": [
        {
          "output_type": "stream",
          "text": [
            "Tensorflow hub version: 0.12.0\n",
            "GPU available\n"
          ],
          "name": "stdout"
        }
      ]
    },
    {
      "cell_type": "markdown",
      "metadata": {
        "id": "mdP4gEV9vCCO"
      },
      "source": [
        "## Loading our data lables\n",
        "**Getting our data ready(turning into tensors)**\n",
        "\n",
        "With all machine learning models our data has to be in numerical format, So we have turn our images into tensors(numerical representations)\n"
      ]
    },
    {
      "cell_type": "code",
      "metadata": {
        "id": "B-sjiSvC5cvx"
      },
      "source": [
        "# Let's check our labels first\n",
        "import pandas as pd\n",
        "\n",
        "im_labels=pd.read_csv(\"drive/MyDrive/Dog Vision/labels.csv\")"
      ],
      "execution_count": 5,
      "outputs": []
    },
    {
      "cell_type": "markdown",
      "metadata": {
        "id": "XHEfQi9Gtt4g"
      },
      "source": [
        ""
      ]
    },
    {
      "cell_type": "code",
      "metadata": {
        "colab": {
          "base_uri": "https://localhost:8080/"
        },
        "id": "3bnK3v30LIQg",
        "outputId": "1a46471a-0d9a-46ad-c336-c45ca9eb4621"
      },
      "source": [
        "from google.colab import drive\n",
        "drive.mount('/content/drive')"
      ],
      "execution_count": 6,
      "outputs": [
        {
          "output_type": "stream",
          "text": [
            "Drive already mounted at /content/drive; to attempt to forcibly remount, call drive.mount(\"/content/drive\", force_remount=True).\n"
          ],
          "name": "stdout"
        }
      ]
    },
    {
      "cell_type": "code",
      "metadata": {
        "colab": {
          "base_uri": "https://localhost:8080/",
          "height": 173
        },
        "id": "-x1wSTOELKtS",
        "outputId": "679c1fbb-952e-4685-f72b-ba2b1d671525"
      },
      "source": [
        "im_labels.describe()"
      ],
      "execution_count": 7,
      "outputs": [
        {
          "output_type": "execute_result",
          "data": {
            "text/html": [
              "<div>\n",
              "<style scoped>\n",
              "    .dataframe tbody tr th:only-of-type {\n",
              "        vertical-align: middle;\n",
              "    }\n",
              "\n",
              "    .dataframe tbody tr th {\n",
              "        vertical-align: top;\n",
              "    }\n",
              "\n",
              "    .dataframe thead th {\n",
              "        text-align: right;\n",
              "    }\n",
              "</style>\n",
              "<table border=\"1\" class=\"dataframe\">\n",
              "  <thead>\n",
              "    <tr style=\"text-align: right;\">\n",
              "      <th></th>\n",
              "      <th>id</th>\n",
              "      <th>breed</th>\n",
              "    </tr>\n",
              "  </thead>\n",
              "  <tbody>\n",
              "    <tr>\n",
              "      <th>count</th>\n",
              "      <td>10222</td>\n",
              "      <td>10222</td>\n",
              "    </tr>\n",
              "    <tr>\n",
              "      <th>unique</th>\n",
              "      <td>10222</td>\n",
              "      <td>120</td>\n",
              "    </tr>\n",
              "    <tr>\n",
              "      <th>top</th>\n",
              "      <td>9034ce4ee16750acd935da10c4eb1fa5</td>\n",
              "      <td>scottish_deerhound</td>\n",
              "    </tr>\n",
              "    <tr>\n",
              "      <th>freq</th>\n",
              "      <td>1</td>\n",
              "      <td>126</td>\n",
              "    </tr>\n",
              "  </tbody>\n",
              "</table>\n",
              "</div>"
            ],
            "text/plain": [
              "                                      id               breed\n",
              "count                              10222               10222\n",
              "unique                             10222                 120\n",
              "top     9034ce4ee16750acd935da10c4eb1fa5  scottish_deerhound\n",
              "freq                                   1                 126"
            ]
          },
          "metadata": {
            "tags": []
          },
          "execution_count": 7
        }
      ]
    },
    {
      "cell_type": "code",
      "metadata": {
        "colab": {
          "base_uri": "https://localhost:8080/",
          "height": 204
        },
        "id": "z0JBOK-gMVWN",
        "outputId": "5e0e1d20-c9f8-429e-df6c-e0db48711150"
      },
      "source": [
        "im_labels.head()"
      ],
      "execution_count": 8,
      "outputs": [
        {
          "output_type": "execute_result",
          "data": {
            "text/html": [
              "<div>\n",
              "<style scoped>\n",
              "    .dataframe tbody tr th:only-of-type {\n",
              "        vertical-align: middle;\n",
              "    }\n",
              "\n",
              "    .dataframe tbody tr th {\n",
              "        vertical-align: top;\n",
              "    }\n",
              "\n",
              "    .dataframe thead th {\n",
              "        text-align: right;\n",
              "    }\n",
              "</style>\n",
              "<table border=\"1\" class=\"dataframe\">\n",
              "  <thead>\n",
              "    <tr style=\"text-align: right;\">\n",
              "      <th></th>\n",
              "      <th>id</th>\n",
              "      <th>breed</th>\n",
              "    </tr>\n",
              "  </thead>\n",
              "  <tbody>\n",
              "    <tr>\n",
              "      <th>0</th>\n",
              "      <td>000bec180eb18c7604dcecc8fe0dba07</td>\n",
              "      <td>boston_bull</td>\n",
              "    </tr>\n",
              "    <tr>\n",
              "      <th>1</th>\n",
              "      <td>001513dfcb2ffafc82cccf4d8bbaba97</td>\n",
              "      <td>dingo</td>\n",
              "    </tr>\n",
              "    <tr>\n",
              "      <th>2</th>\n",
              "      <td>001cdf01b096e06d78e9e5112d419397</td>\n",
              "      <td>pekinese</td>\n",
              "    </tr>\n",
              "    <tr>\n",
              "      <th>3</th>\n",
              "      <td>00214f311d5d2247d5dfe4fe24b2303d</td>\n",
              "      <td>bluetick</td>\n",
              "    </tr>\n",
              "    <tr>\n",
              "      <th>4</th>\n",
              "      <td>0021f9ceb3235effd7fcde7f7538ed62</td>\n",
              "      <td>golden_retriever</td>\n",
              "    </tr>\n",
              "  </tbody>\n",
              "</table>\n",
              "</div>"
            ],
            "text/plain": [
              "                                 id             breed\n",
              "0  000bec180eb18c7604dcecc8fe0dba07       boston_bull\n",
              "1  001513dfcb2ffafc82cccf4d8bbaba97             dingo\n",
              "2  001cdf01b096e06d78e9e5112d419397          pekinese\n",
              "3  00214f311d5d2247d5dfe4fe24b2303d          bluetick\n",
              "4  0021f9ceb3235effd7fcde7f7538ed62  golden_retriever"
            ]
          },
          "metadata": {
            "tags": []
          },
          "execution_count": 8
        }
      ]
    },
    {
      "cell_type": "code",
      "metadata": {
        "colab": {
          "base_uri": "https://localhost:8080/",
          "height": 618
        },
        "id": "msTuh22QMiEf",
        "outputId": "a6c41fa3-ed0b-4ebd-a392-856de8e98ce2"
      },
      "source": [
        "# How many images are there of each breed\n",
        "im_labels[\"breed\"].value_counts().plot(kind='bar',figsize=(20,10))"
      ],
      "execution_count": 9,
      "outputs": [
        {
          "output_type": "execute_result",
          "data": {
            "text/plain": [
              "<matplotlib.axes._subplots.AxesSubplot at 0x7f8811b83dd0>"
            ]
          },
          "metadata": {
            "tags": []
          },
          "execution_count": 9
        },
        {
          "output_type": "display_data",
          "data": {
            "image/png": "[encoded data removed]",
            "text/plain": [
              "<Figure size 1440x720 with 1 Axes>"
            ]
          },
          "metadata": {
            "tags": [],
            "needs_background": "light"
          }
        }
      ]
    },
    {
      "cell_type": "markdown",
      "metadata": {
        "id": "HhlB17jYNC4j"
      },
      "source": [
        "## Preparing the Images "
      ]
    },
    {
      "cell_type": "code",
      "metadata": {
        "colab": {
          "base_uri": "https://localhost:8080/",
          "height": 361
        },
        "id": "9o2eOy9tNgsJ",
        "outputId": "d08a374c-67d9-4b70-ef54-0e5929300ef8"
      },
      "source": [
        "# Let's view an image\n",
        "from IPython.display import Image\n",
        "Image(\"drive/MyDrive/Dog Vision/train/00214f311d5d2247d5dfe4fe24b2303d.jpg\")"
      ],
      "execution_count": 10,
      "outputs": [
        {
          "output_type": "execute_result",
          "data": {
            "image/jpeg": "[encoded data removed]",
            "text/plain": [
              "<IPython.core.display.Image object>"
            ]
          },
          "metadata": {
            "tags": []
          },
          "execution_count": 10
        }
      ]
    },
    {
      "cell_type": "markdown",
      "metadata": {
        "id": "ngApGhBgO9TL"
      },
      "source": [
        "### Getting images and their labels\n",
        "\n",
        "Since we've got the image ID's and their labels in a DataFrame (`im_labels`), we'll use it to create:\n",
        "* A list a filepaths to training images\n",
        "* An array of all labels\n",
        "* An array of all unique labels\n",
        "\n",
        "We'll only create a list of filepaths to images rather than importing them all to begin with. This is because working with filepaths (strings) is much efficient than working with images."
      ]
    },
    {
      "cell_type": "code",
      "metadata": {
        "colab": {
          "base_uri": "https://localhost:8080/"
        },
        "id": "7xGCXAu5xV1C",
        "outputId": "067816bf-ddd3-471a-d29e-c026696a75c6"
      },
      "source": [
        "# Create pathnames from image ids\n",
        "filename=['drive/MyDrive/Dog Vision/train/' + fname + \".jpg\" for fname in im_labels[\"id\"]]\n",
        "\n",
        "filename[:20]"
      ],
      "execution_count": 11,
      "outputs": [
        {
          "output_type": "execute_result",
          "data": {
            "text/plain": [
              "['drive/MyDrive/Dog Vision/train/000bec180eb18c7604dcecc8fe0dba07.jpg',\n",
              " 'drive/MyDrive/Dog Vision/train/001513dfcb2ffafc82cccf4d8bbaba97.jpg',\n",
              " 'drive/MyDrive/Dog Vision/train/001cdf01b096e06d78e9e5112d419397.jpg',\n",
              " 'drive/MyDrive/Dog Vision/train/00214f311d5d2247d5dfe4fe24b2303d.jpg',\n",
              " 'drive/MyDrive/Dog Vision/train/0021f9ceb3235effd7fcde7f7538ed62.jpg',\n",
              " 'drive/MyDrive/Dog Vision/train/002211c81b498ef88e1b40b9abf84e1d.jpg',\n",
              " 'drive/MyDrive/Dog Vision/train/00290d3e1fdd27226ba27a8ce248ce85.jpg',\n",
              " 'drive/MyDrive/Dog Vision/train/002a283a315af96eaea0e28e7163b21b.jpg',\n",
              " 'drive/MyDrive/Dog Vision/train/003df8b8a8b05244b1d920bb6cf451f9.jpg',\n",
              " 'drive/MyDrive/Dog Vision/train/0042188c895a2f14ef64a918ed9c7b64.jpg',\n",
              " 'drive/MyDrive/Dog Vision/train/004396df1acd0f1247b740ca2b14616e.jpg',\n",
              " 'drive/MyDrive/Dog Vision/train/0067dc3eab0b3c3ef0439477624d85d6.jpg',\n",
              " 'drive/MyDrive/Dog Vision/train/00693b8bc2470375cc744a6391d397ec.jpg',\n",
              " 'drive/MyDrive/Dog Vision/train/006cc3ddb9dc1bd827479569fcdc52dc.jpg',\n",
              " 'drive/MyDrive/Dog Vision/train/0075dc49dab4024d12fafe67074d8a81.jpg',\n",
              " 'drive/MyDrive/Dog Vision/train/00792e341f3c6eb33663e415d0715370.jpg',\n",
              " 'drive/MyDrive/Dog Vision/train/007b5a16db9d9ff9d7ad39982703e429.jpg',\n",
              " 'drive/MyDrive/Dog Vision/train/007b8a07882822475a4ce6581e70b1f8.jpg',\n",
              " 'drive/MyDrive/Dog Vision/train/007ff9a78eba2aebb558afea3a51c469.jpg',\n",
              " 'drive/MyDrive/Dog Vision/train/008887054b18ba3c7601792b6a453cc3.jpg']"
            ]
          },
          "metadata": {
            "tags": []
          },
          "execution_count": 11
        }
      ]
    },
    {
      "cell_type": "code",
      "metadata": {
        "colab": {
          "base_uri": "https://localhost:8080/"
        },
        "id": "fhzOnkOhyEqY",
        "outputId": "328b4400-89b3-4573-a49f-2dac1c828b23"
      },
      "source": [
        "# check whether number of filenames matches number of actual image files in train folder \n",
        "import os\n",
        "if len(os.listdir(\"drive/MyDrive/Dog Vision/train/\"))==len(filename):\n",
        "  print(\"Filename match actual amount of files!!!\")\n",
        "else:\n",
        "  print(\"Oops your filename doesn't match actual amount of files\")"
      ],
      "execution_count": 12,
      "outputs": [
        {
          "output_type": "stream",
          "text": [
            "Filename match actual amount of files!!!\n"
          ],
          "name": "stdout"
        }
      ]
    },
    {
      "cell_type": "code",
      "metadata": {
        "colab": {
          "base_uri": "https://localhost:8080/",
          "height": 392
        },
        "id": "DGoyn-kR0SvU",
        "outputId": "1be1b744-0132-4d00-b4e2-04241ae6a8a4"
      },
      "source": [
        "Image(filename[120])\n"
      ],
      "execution_count": 13,
      "outputs": [
        {
          "output_type": "execute_result",
          "data": {
            "image/jpeg": "[encoded data removed]",
            "text/plain": [
              "<IPython.core.display.Image object>"
            ]
          },
          "metadata": {
            "tags": []
          },
          "execution_count": 13
        }
      ]
    },
    {
      "cell_type": "code",
      "metadata": {
        "colab": {
          "base_uri": "https://localhost:8080/",
          "height": 35
        },
        "id": "vrQjszZZ0bzZ",
        "outputId": "a8e81719-d43d-4ab5-c62f-3bace3abc537"
      },
      "source": [
        "im_labels[\"breed\"][120] # breed of above the dog in above image"
      ],
      "execution_count": 14,
      "outputs": [
        {
          "output_type": "execute_result",
          "data": {
            "application/vnd.google.colaboratory.intrinsic+json": {
              "type": "string"
            },
            "text/plain": [
              "'irish_terrier'"
            ]
          },
          "metadata": {
            "tags": []
          },
          "execution_count": 14
        }
      ]
    },
    {
      "cell_type": "code",
      "metadata": {
        "colab": {
          "base_uri": "https://localhost:8080/"
        },
        "id": "oFi55iHQ0_Mi",
        "outputId": "8cdd93d9-3801-4bed-d09b-ae22459891c9"
      },
      "source": [
        "# turn labels into numpy array\n",
        "import numpy as np\n",
        "dog_labels=im_labels['breed'].to_numpy()\n",
        "dog_labels[:10]"
      ],
      "execution_count": 15,
      "outputs": [
        {
          "output_type": "execute_result",
          "data": {
            "text/plain": [
              "array(['boston_bull', 'dingo', 'pekinese', 'bluetick', 'golden_retriever',\n",
              "       'bedlington_terrier', 'bedlington_terrier', 'borzoi', 'basenji',\n",
              "       'scottish_deerhound'], dtype=object)"
            ]
          },
          "metadata": {
            "tags": []
          },
          "execution_count": 15
        }
      ]
    },
    {
      "cell_type": "code",
      "metadata": {
        "colab": {
          "base_uri": "https://localhost:8080/"
        },
        "id": "jdynl2plE45d",
        "outputId": "4a0805ac-436e-43a5-dfde-747e4cb7474d"
      },
      "source": [
        "# check if dog_labels have same amount of items as filename\n",
        "if len(dog_labels)==len(filename):\n",
        "  print(\"length Match\")\n",
        "else:\n",
        "  print(\"Length Doesn't match, please check your data directory\")"
      ],
      "execution_count": 16,
      "outputs": [
        {
          "output_type": "stream",
          "text": [
            "length Match\n"
          ],
          "name": "stdout"
        }
      ]
    },
    {
      "cell_type": "markdown",
      "metadata": {
        "id": "DBdzQh7qF2o-"
      },
      "source": [
        "Since machine learning models can't take strings as input we've to convert our string array into numbers\n",
        "\n",
        "To begin with, we'll find all the unique dog breed names inside the dog_labels array\n",
        "\n",
        "Then we'll go through the list of label's and compare them to unique breed and create a list of booleans indicating \n",
        "which one is the real label(`True`) and which one is the false label (`False`)\n"
      ]
    },
    {
      "cell_type": "code",
      "metadata": {
        "colab": {
          "base_uri": "https://localhost:8080/"
        },
        "id": "EO-kxXpOHAbT",
        "outputId": "95776e9f-15ba-4079-e7b4-e82a8d9858c3"
      },
      "source": [
        "#  find the unique labels values\n",
        "unique_breeds=np.unique(dog_labels)\n",
        "len(unique_breeds) "
      ],
      "execution_count": 17,
      "outputs": [
        {
          "output_type": "execute_result",
          "data": {
            "text/plain": [
              "120"
            ]
          },
          "metadata": {
            "tags": []
          },
          "execution_count": 17
        }
      ]
    },
    {
      "cell_type": "code",
      "metadata": {
        "colab": {
          "base_uri": "https://localhost:8080/"
        },
        "id": "xYmnkbYwHXL6",
        "outputId": "ff02fe0f-5e39-4323-f95e-0ce7b832440e"
      },
      "source": [
        "# So as we know we have 120 dog breeds into our data \n",
        "# Now turn a single label into an array of booleans\n",
        "print(dog_labels[0])\n",
        "dog_labels[0]==unique_breeds"
      ],
      "execution_count": 18,
      "outputs": [
        {
          "output_type": "stream",
          "text": [
            "boston_bull\n"
          ],
          "name": "stdout"
        },
        {
          "output_type": "execute_result",
          "data": {
            "text/plain": [
              "array([False, False, False, False, False, False, False, False, False,\n",
              "       False, False, False, False, False, False, False, False, False,\n",
              "       False,  True, False, False, False, False, False, False, False,\n",
              "       False, False, False, False, False, False, False, False, False,\n",
              "       False, False, False, False, False, False, False, False, False,\n",
              "       False, False, False, False, False, False, False, False, False,\n",
              "       False, False, False, False, False, False, False, False, False,\n",
              "       False, False, False, False, False, False, False, False, False,\n",
              "       False, False, False, False, False, False, False, False, False,\n",
              "       False, False, False, False, False, False, False, False, False,\n",
              "       False, False, False, False, False, False, False, False, False,\n",
              "       False, False, False, False, False, False, False, False, False,\n",
              "       False, False, False, False, False, False, False, False, False,\n",
              "       False, False, False])"
            ]
          },
          "metadata": {
            "tags": []
          },
          "execution_count": 18
        }
      ]
    },
    {
      "cell_type": "code",
      "metadata": {
        "colab": {
          "base_uri": "https://localhost:8080/"
        },
        "id": "Bhxjq-hRIDc7",
        "outputId": "a998f8ec-551b-4f1f-ce17-82925053805f"
      },
      "source": [
        "# now turn every dog_label into boolean array\n",
        "boolean_labels=[label==unique_breeds for label in dog_labels]\n",
        "boolean_labels[:3]"
      ],
      "execution_count": 19,
      "outputs": [
        {
          "output_type": "execute_result",
          "data": {
            "text/plain": [
              "[array([False, False, False, False, False, False, False, False, False,\n",
              "        False, False, False, False, False, False, False, False, False,\n",
              "        False,  True, False, False, False, False, False, False, False,\n",
              "        False, False, False, False, False, False, False, False, False,\n",
              "        False, False, False, False, False, False, False, False, False,\n",
              "        False, False, False, False, False, False, False, False, False,\n",
              "        False, False, False, False, False, False, False, False, False,\n",
              "        False, False, False, False, False, False, False, False, False,\n",
              "        False, False, False, False, False, False, False, False, False,\n",
              "        False, False, False, False, False, False, False, False, False,\n",
              "        False, False, False, False, False, False, False, False, False,\n",
              "        False, False, False, False, False, False, False, False, False,\n",
              "        False, False, False, False, False, False, False, False, False,\n",
              "        False, False, False]),\n",
              " array([False, False, False, False, False, False, False, False, False,\n",
              "        False, False, False, False, False, False, False, False, False,\n",
              "        False, False, False, False, False, False, False, False, False,\n",
              "        False, False, False, False, False, False, False, False, False,\n",
              "        False,  True, False, False, False, False, False, False, False,\n",
              "        False, False, False, False, False, False, False, False, False,\n",
              "        False, False, False, False, False, False, False, False, False,\n",
              "        False, False, False, False, False, False, False, False, False,\n",
              "        False, False, False, False, False, False, False, False, False,\n",
              "        False, False, False, False, False, False, False, False, False,\n",
              "        False, False, False, False, False, False, False, False, False,\n",
              "        False, False, False, False, False, False, False, False, False,\n",
              "        False, False, False, False, False, False, False, False, False,\n",
              "        False, False, False]),\n",
              " array([False, False, False, False, False, False, False, False, False,\n",
              "        False, False, False, False, False, False, False, False, False,\n",
              "        False, False, False, False, False, False, False, False, False,\n",
              "        False, False, False, False, False, False, False, False, False,\n",
              "        False, False, False, False, False, False, False, False, False,\n",
              "        False, False, False, False, False, False, False, False, False,\n",
              "        False, False, False, False, False, False, False, False, False,\n",
              "        False, False, False, False, False, False, False, False, False,\n",
              "        False, False, False, False, False, False, False, False, False,\n",
              "        False, False, False, False,  True, False, False, False, False,\n",
              "        False, False, False, False, False, False, False, False, False,\n",
              "        False, False, False, False, False, False, False, False, False,\n",
              "        False, False, False, False, False, False, False, False, False,\n",
              "        False, False, False])]"
            ]
          },
          "metadata": {
            "tags": []
          },
          "execution_count": 19
        }
      ]
    },
    {
      "cell_type": "code",
      "metadata": {
        "colab": {
          "base_uri": "https://localhost:8080/"
        },
        "id": "pxikbEOhIlkQ",
        "outputId": "751e6814-62d8-4f8b-8b58-2fcb78579be9"
      },
      "source": [
        "len(boolean_labels)"
      ],
      "execution_count": 20,
      "outputs": [
        {
          "output_type": "execute_result",
          "data": {
            "text/plain": [
              "10222"
            ]
          },
          "metadata": {
            "tags": []
          },
          "execution_count": 20
        }
      ]
    },
    {
      "cell_type": "code",
      "metadata": {
        "colab": {
          "base_uri": "https://localhost:8080/"
        },
        "id": "wFmRh94bIwFv",
        "outputId": "c88906a0-790a-4764-d783-081867f88df0"
      },
      "source": [
        "# Turning our boolean array into integers, how?\n",
        "# let's see an example\n",
        "print(dog_labels[0])   # Our dog breed\n",
        "print(np.where(unique_breeds==dog_labels[0]))  #index where label occurs\n",
        "print(boolean_labels[0].argmax())              #index where label occurs in boolean array\n",
        "print(boolean_labels[0].astype(int))           # there will be a 1 where the our dog label occurs \n"
      ],
      "execution_count": 21,
      "outputs": [
        {
          "output_type": "stream",
          "text": [
            "boston_bull\n",
            "(array([19]),)\n",
            "19\n",
            "[0 0 0 0 0 0 0 0 0 0 0 0 0 0 0 0 0 0 0 1 0 0 0 0 0 0 0 0 0 0 0 0 0 0 0 0 0\n",
            " 0 0 0 0 0 0 0 0 0 0 0 0 0 0 0 0 0 0 0 0 0 0 0 0 0 0 0 0 0 0 0 0 0 0 0 0 0\n",
            " 0 0 0 0 0 0 0 0 0 0 0 0 0 0 0 0 0 0 0 0 0 0 0 0 0 0 0 0 0 0 0 0 0 0 0 0 0\n",
            " 0 0 0 0 0 0 0 0 0]\n"
          ],
          "name": "stdout"
        }
      ]
    },
    {
      "cell_type": "code",
      "metadata": {
        "id": "A-RhOTjrKZEc"
      },
      "source": [
        "# Now that we have to split our data into training data set and validation data set\n"
      ],
      "execution_count": 22,
      "outputs": []
    },
    {
      "cell_type": "markdown",
      "metadata": {
        "id": "d5RyVvdeTnEj"
      },
      "source": [
        "### Splitting our data \n",
        "Creating our own data validation "
      ]
    },
    {
      "cell_type": "code",
      "metadata": {
        "colab": {
          "base_uri": "https://localhost:8080/"
        },
        "id": "FdA__MruT0FJ",
        "outputId": "f679ab5c-c0b8-4944-8287-c97d09d0bfc0"
      },
      "source": [
        "# set up X and y\n",
        "X=filename\n",
        "y=boolean_labels\n",
        "\n",
        "X[:10]"
      ],
      "execution_count": 23,
      "outputs": [
        {
          "output_type": "execute_result",
          "data": {
            "text/plain": [
              "['drive/MyDrive/Dog Vision/train/000bec180eb18c7604dcecc8fe0dba07.jpg',\n",
              " 'drive/MyDrive/Dog Vision/train/001513dfcb2ffafc82cccf4d8bbaba97.jpg',\n",
              " 'drive/MyDrive/Dog Vision/train/001cdf01b096e06d78e9e5112d419397.jpg',\n",
              " 'drive/MyDrive/Dog Vision/train/00214f311d5d2247d5dfe4fe24b2303d.jpg',\n",
              " 'drive/MyDrive/Dog Vision/train/0021f9ceb3235effd7fcde7f7538ed62.jpg',\n",
              " 'drive/MyDrive/Dog Vision/train/002211c81b498ef88e1b40b9abf84e1d.jpg',\n",
              " 'drive/MyDrive/Dog Vision/train/00290d3e1fdd27226ba27a8ce248ce85.jpg',\n",
              " 'drive/MyDrive/Dog Vision/train/002a283a315af96eaea0e28e7163b21b.jpg',\n",
              " 'drive/MyDrive/Dog Vision/train/003df8b8a8b05244b1d920bb6cf451f9.jpg',\n",
              " 'drive/MyDrive/Dog Vision/train/0042188c895a2f14ef64a918ed9c7b64.jpg']"
            ]
          },
          "metadata": {
            "tags": []
          },
          "execution_count": 23
        }
      ]
    },
    {
      "cell_type": "code",
      "metadata": {
        "colab": {
          "base_uri": "https://localhost:8080/"
        },
        "id": "fhiLiXauUQFn",
        "outputId": "f918bb94-ca14-4f41-b0e4-1f152d30ad3c"
      },
      "source": [
        "y[:3]"
      ],
      "execution_count": 24,
      "outputs": [
        {
          "output_type": "execute_result",
          "data": {
            "text/plain": [
              "[array([False, False, False, False, False, False, False, False, False,\n",
              "        False, False, False, False, False, False, False, False, False,\n",
              "        False,  True, False, False, False, False, False, False, False,\n",
              "        False, False, False, False, False, False, False, False, False,\n",
              "        False, False, False, False, False, False, False, False, False,\n",
              "        False, False, False, False, False, False, False, False, False,\n",
              "        False, False, False, False, False, False, False, False, False,\n",
              "        False, False, False, False, False, False, False, False, False,\n",
              "        False, False, False, False, False, False, False, False, False,\n",
              "        False, False, False, False, False, False, False, False, False,\n",
              "        False, False, False, False, False, False, False, False, False,\n",
              "        False, False, False, False, False, False, False, False, False,\n",
              "        False, False, False, False, False, False, False, False, False,\n",
              "        False, False, False]),\n",
              " array([False, False, False, False, False, False, False, False, False,\n",
              "        False, False, False, False, False, False, False, False, False,\n",
              "        False, False, False, False, False, False, False, False, False,\n",
              "        False, False, False, False, False, False, False, False, False,\n",
              "        False,  True, False, False, False, False, False, False, False,\n",
              "        False, False, False, False, False, False, False, False, False,\n",
              "        False, False, False, False, False, False, False, False, False,\n",
              "        False, False, False, False, False, False, False, False, False,\n",
              "        False, False, False, False, False, False, False, False, False,\n",
              "        False, False, False, False, False, False, False, False, False,\n",
              "        False, False, False, False, False, False, False, False, False,\n",
              "        False, False, False, False, False, False, False, False, False,\n",
              "        False, False, False, False, False, False, False, False, False,\n",
              "        False, False, False]),\n",
              " array([False, False, False, False, False, False, False, False, False,\n",
              "        False, False, False, False, False, False, False, False, False,\n",
              "        False, False, False, False, False, False, False, False, False,\n",
              "        False, False, False, False, False, False, False, False, False,\n",
              "        False, False, False, False, False, False, False, False, False,\n",
              "        False, False, False, False, False, False, False, False, False,\n",
              "        False, False, False, False, False, False, False, False, False,\n",
              "        False, False, False, False, False, False, False, False, False,\n",
              "        False, False, False, False, False, False, False, False, False,\n",
              "        False, False, False, False,  True, False, False, False, False,\n",
              "        False, False, False, False, False, False, False, False, False,\n",
              "        False, False, False, False, False, False, False, False, False,\n",
              "        False, False, False, False, False, False, False, False, False,\n",
              "        False, False, False])]"
            ]
          },
          "metadata": {
            "tags": []
          },
          "execution_count": 24
        }
      ]
    },
    {
      "cell_type": "markdown",
      "metadata": {
        "id": "FrsZld0vUTBz"
      },
      "source": [
        "We're going to startoff experimenting with ~ 1000 images and then increase if needed"
      ]
    },
    {
      "cell_type": "code",
      "metadata": {
        "id": "JZ5y71IPUq6X"
      },
      "source": [
        "# Set number of images to use in experimenting \n",
        "NUM_IMAGES=2000 #@param{type:\"slider\",min:\"1000\",max:\"10000\",step:\"1000\"}\n"
      ],
      "execution_count": 25,
      "outputs": []
    },
    {
      "cell_type": "code",
      "metadata": {
        "colab": {
          "base_uri": "https://localhost:8080/"
        },
        "id": "d1ADbw0JVpLD",
        "outputId": "0840ca05-ff96-46ce-d746-ec1ebc30947c"
      },
      "source": [
        "# let's split our data into training and validation data sets\n",
        "from sklearn.model_selection import train_test_split\n",
        "\n",
        "X_train,X_val,y_train,y_val=train_test_split(X[:NUM_IMAGES],y[:NUM_IMAGES],test_size=0.2,random_state=42)\n",
        "\n",
        "len(X_train),len(y_train),len(X_val),len(y_val)"
      ],
      "execution_count": 26,
      "outputs": [
        {
          "output_type": "execute_result",
          "data": {
            "text/plain": [
              "(1600, 1600, 400, 400)"
            ]
          },
          "metadata": {
            "tags": []
          },
          "execution_count": 26
        }
      ]
    },
    {
      "cell_type": "markdown",
      "metadata": {
        "id": "3lIASU_6WT3r"
      },
      "source": [
        "### Preprocess Images (Turning Images into tensors)\n",
        "To preprocess our images into Tensors we're going to write a function which will do the following things:\n",
        "1. Take an image file path as input\n",
        "2. Use tensorflow to read the image and save it to the varaiable, `image`\n",
        "3. Turn our image ( a jpg into tensors)\n",
        "4. Resize our image to be a shape of 250,250\n",
        "5. Return the modified image"
      ]
    },
    {
      "cell_type": "code",
      "metadata": {
        "colab": {
          "base_uri": "https://localhost:8080/"
        },
        "id": "PKgYIBNeYAFM",
        "outputId": "462c1647-e54d-4afd-9773-4a6a2bc96913"
      },
      "source": [
        "# Convert image to numpy array\n",
        "from matplotlib.pyplot import imread\n",
        "image=imread(filename[35])\n",
        "image.shape"
      ],
      "execution_count": 27,
      "outputs": [
        {
          "output_type": "execute_result",
          "data": {
            "text/plain": [
              "(1200, 1600, 3)"
            ]
          },
          "metadata": {
            "tags": []
          },
          "execution_count": 27
        }
      ]
    },
    {
      "cell_type": "markdown",
      "metadata": {
        "id": "EER54HkYeMyF"
      },
      "source": [
        "In above tuple 3 is color channel RGB ( Red, Blue and Green)"
      ]
    },
    {
      "cell_type": "code",
      "metadata": {
        "colab": {
          "base_uri": "https://localhost:8080/"
        },
        "id": "FYM0tOrid82g",
        "outputId": "8b17ecaa-cb2c-4c43-f9fe-2937f5f7e2d8"
      },
      "source": [
        "image"
      ],
      "execution_count": 28,
      "outputs": [
        {
          "output_type": "execute_result",
          "data": {
            "text/plain": [
              "array([[[137, 123, 114],\n",
              "        [137, 123, 114],\n",
              "        [136, 122, 113],\n",
              "        ...,\n",
              "        [119, 105,  92],\n",
              "        [120, 106,  93],\n",
              "        [119, 105,  92]],\n",
              "\n",
              "       [[132, 118, 109],\n",
              "        [134, 120, 111],\n",
              "        [136, 122, 113],\n",
              "        ...,\n",
              "        [114, 100,  87],\n",
              "        [115, 101,  88],\n",
              "        [115, 101,  88]],\n",
              "\n",
              "       [[130, 116, 107],\n",
              "        [134, 120, 111],\n",
              "        [139, 125, 116],\n",
              "        ...,\n",
              "        [107,  95,  81],\n",
              "        [108,  96,  82],\n",
              "        [110,  98,  84]],\n",
              "\n",
              "       ...,\n",
              "\n",
              "       [[162, 154, 152],\n",
              "        [159, 151, 149],\n",
              "        [154, 146, 144],\n",
              "        ...,\n",
              "        [ 99,  78,  73],\n",
              "        [101,  80,  75],\n",
              "        [103,  82,  77]],\n",
              "\n",
              "       [[160, 152, 150],\n",
              "        [156, 148, 146],\n",
              "        [150, 142, 140],\n",
              "        ...,\n",
              "        [ 99,  75,  71],\n",
              "        [100,  76,  72],\n",
              "        [101,  76,  72]],\n",
              "\n",
              "       [[161, 153, 151],\n",
              "        [156, 148, 146],\n",
              "        [149, 141, 139],\n",
              "        ...,\n",
              "        [106,  81,  77],\n",
              "        [107,  82,  78],\n",
              "        [105,  80,  76]]], dtype=uint8)"
            ]
          },
          "metadata": {
            "tags": []
          },
          "execution_count": 28
        }
      ]
    },
    {
      "cell_type": "code",
      "metadata": {
        "colab": {
          "base_uri": "https://localhost:8080/"
        },
        "id": "9_to8BxReHI2",
        "outputId": "158b135b-30d4-4f27-b605-51fa6c16ed30"
      },
      "source": [
        "# Now convert to tensor\n",
        "tf.constant(image)[:2]"
      ],
      "execution_count": 29,
      "outputs": [
        {
          "output_type": "execute_result",
          "data": {
            "text/plain": [
              "<tf.Tensor: shape=(2, 1600, 3), dtype=uint8, numpy=\n",
              "array([[[137, 123, 114],\n",
              "        [137, 123, 114],\n",
              "        [136, 122, 113],\n",
              "        ...,\n",
              "        [119, 105,  92],\n",
              "        [120, 106,  93],\n",
              "        [119, 105,  92]],\n",
              "\n",
              "       [[132, 118, 109],\n",
              "        [134, 120, 111],\n",
              "        [136, 122, 113],\n",
              "        ...,\n",
              "        [114, 100,  87],\n",
              "        [115, 101,  88],\n",
              "        [115, 101,  88]]], dtype=uint8)>"
            ]
          },
          "metadata": {
            "tags": []
          },
          "execution_count": 29
        }
      ]
    },
    {
      "cell_type": "code",
      "metadata": {
        "id": "gRa26bkMe6Em"
      },
      "source": [
        "# now let's make the function for the preprocessing of images\n",
        "IMG_SIZE=250\n",
        "def pre_image(image_path,img_size=IMG_SIZE):\n",
        "  # Read in image file\n",
        "  image=tf.io.read_file(image_path)\n",
        "  # read_file method convert the image into tensor string\n",
        "  # turn the jpg into tensor with the 3 color channel\n",
        "  image=tf.image.decode_jpeg(image,channels=3)\n",
        "\n",
        "  # turning our 3 color channel from (0,255) to (0,1) because it is more efficient \n",
        "  image=tf.image.convert_image_dtype(image,tf.float32)\n",
        "\n",
        "  # Resize the image to our desired value \n",
        "  image=tf.image.resize(image,size=[IMG_SIZE,IMG_SIZE])\n",
        "\n",
        "  return image\n"
      ],
      "execution_count": 30,
      "outputs": []
    },
    {
      "cell_type": "markdown",
      "metadata": {
        "id": "fWjyh4j6mw5P"
      },
      "source": [
        "### Turning data into batches\n",
        "Why turn our data into batches?\n",
        "\n",
        "Let's say you try to process 10000+ images in one go..they all might not fit into the memory\n",
        "\n",
        "So that's why we take about 32 (This is the batch size) images at a time.\n",
        "\n",
        "In order to use Tensorflow effectively, we need our data in the form of Tensors tuples which look like this: `(image,label`"
      ]
    },
    {
      "cell_type": "code",
      "metadata": {
        "id": "mA1Cpxlm0ulQ"
      },
      "source": [
        "# create a simple function which will return a tuple of image,label\n",
        "\n",
        "def get_image_label(image_path,label):\n",
        "  image=pre_image(image_path)\n",
        "  return image,label"
      ],
      "execution_count": 31,
      "outputs": []
    },
    {
      "cell_type": "markdown",
      "metadata": {
        "id": "1IZ1hptl12JF"
      },
      "source": [
        "Now we've got a way to turn our data into tuples of tensors in the form `image, label`. Let's make a function to turn our data into (X,y) into batches."
      ]
    },
    {
      "cell_type": "code",
      "metadata": {
        "id": "GdiEq_bS2Xi4"
      },
      "source": [
        "# Define the batch size \n",
        "BATCH_SIZE=32\n",
        "\n",
        "# Create a function to turn data into batches\n",
        "\n",
        "def create_data_batches(X,y=None,batch_size=BATCH_SIZE,valid_data=False,test_data=False):\n",
        "  '''\n",
        "  Create batches of data out of image(X) and labels(y) pairs.\n",
        "  Shuffles the data if it's training data but doesn't shuffle if it's validation data. Also accepts test data as input (no labels)\n",
        "  '''\n",
        "\n",
        "  # If the data is test set, we probably don't have labels\n",
        "\n",
        "  if test_data:\n",
        "    print(\"Creating test data batches...\")\n",
        "    data=tf.data.Dataset.from_tensor_slices(tf.constant(X)) # Only file paths (no labels )\n",
        "\n",
        "    data_batch=data.map(pre_image).batch(BATCH_SIZE)\n",
        "    return data_batch\n",
        "\n",
        "  # if the data is valid data set, we don't need to shuffle the data\n",
        "  elif valid_data:\n",
        "    print(\"Creating Valid data batches...\")\n",
        "    data=tf.data.Dataset.from_tensor_slices((tf.constant(X),tf.constant(y)))  # Images and labels\n",
        "    data_batch=data.map(get_image_label).batch(BATCH_SIZE)\n",
        "    return data_batch\n",
        "  \n",
        "  # For training data set\n",
        "  else:\n",
        "    print(\"Creating test data batches...\")\n",
        "    data=tf.data.Dataset.from_tensor_slices((tf.constant(X),tf.constant(y)))\n",
        "\n",
        "    # Shuffling pathnames and labels before mapping  image preprocessor function because it's faster to shuffle array of string rather than full size array of tensor images\n",
        "    data=data.shuffle(buffer_size=len(X))\n",
        "\n",
        "    # Create image, label tuple \n",
        "    data=data.map(get_image_label)\n",
        "\n",
        "    # Turn the training data into batches\n",
        "    data_batch=data.batch(BATCH_SIZE)\n",
        "  return data_batch"
      ],
      "execution_count": 36,
      "outputs": []
    },
    {
      "cell_type": "code",
      "metadata": {
        "colab": {
          "base_uri": "https://localhost:8080/"
        },
        "id": "ElQnpm1yQh7D",
        "outputId": "c95bf9a9-4fae-4e62-e4b8-9cf32b60db78"
      },
      "source": [
        "# Creating training and validation data batches\n",
        "train_data=create_data_batches(X_train,y_train)\n",
        "\n",
        "val_data=create_data_batches(X_val,y_val,valid_data=True)\n",
        "\n",
        "# check out the different attributes of data batches\n",
        "train_data.element_spec, val_data.element_spec"
      ],
      "execution_count": 37,
      "outputs": [
        {
          "output_type": "stream",
          "text": [
            "Creating test data batches...\n",
            "Creating Valid data batches...\n"
          ],
          "name": "stdout"
        },
        {
          "output_type": "execute_result",
          "data": {
            "text/plain": [
              "((TensorSpec(shape=(None, 250, 250, 3), dtype=tf.float32, name=None),\n",
              "  TensorSpec(shape=(None, 120), dtype=tf.bool, name=None)),\n",
              " (TensorSpec(shape=(None, 250, 250, 3), dtype=tf.float32, name=None),\n",
              "  TensorSpec(shape=(None, 120), dtype=tf.bool, name=None)))"
            ]
          },
          "metadata": {
            "tags": []
          },
          "execution_count": 37
        }
      ]
    },
    {
      "cell_type": "code",
      "metadata": {
        "id": "_uO73YYDR40n"
      },
      "source": [
        ""
      ],
      "execution_count": null,
      "outputs": []
    }
  ]
}