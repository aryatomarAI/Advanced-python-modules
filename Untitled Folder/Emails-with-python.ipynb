{
 "cells": [
  {
   "cell_type": "code",
   "execution_count": 19,
   "metadata": {},
   "outputs": [],
   "source": [
    "#Sending emails with python \n",
    "#To send emails with python, we need to manually go through the steps of connecting to an email server, confirming connection,\n",
    "#setting a protocol, logging on, and sending the message\n",
    "# We are using smtplib library for that\n",
    "# The SMTP server domain of gmail is smtp.gmail.com\n",
    "# In this you don't have to use your email password but app password for that you have to turn on 2 step authentication password\n",
    "import smtplib"
   ]
  },
  {
   "cell_type": "code",
   "execution_count": 20,
   "metadata": {},
   "outputs": [],
   "source": [
    "smtp_object=smtplib.SMTP('smtp.gmail.com',587)   # Here creating a smtp object and providing smtp server domain and port number\n",
    "# If 465 doesn't work try 465 which is used for ssl encripted emails\n",
    "# And if it also doesn't work leave the port number attribute empty"
   ]
  },
  {
   "cell_type": "code",
   "execution_count": 21,
   "metadata": {},
   "outputs": [
    {
     "data": {
      "text/plain": [
       "(250,\n",
       " b'smtp.gmail.com at your service, [223.190.101.241]\\nSIZE 35882577\\n8BITMIME\\nSTARTTLS\\nENHANCEDSTATUSCODES\\nPIPELINING\\nCHUNKING\\nSMTPUTF8')"
      ]
     },
     "execution_count": 21,
     "metadata": {},
     "output_type": "execute_result"
    }
   ],
   "source": [
    "smtp_object.ehlo()  # Requesting for a connection or sending greetings to the server"
   ]
  },
  {
   "cell_type": "code",
   "execution_count": 22,
   "metadata": {},
   "outputs": [
    {
     "data": {
      "text/plain": [
       "(220, b'2.0.0 Ready to start TLS')"
      ]
     },
     "execution_count": 22,
     "metadata": {},
     "output_type": "execute_result"
    }
   ],
   "source": [
    "smtp_object.starttls()  #method For Tls incription\n",
    "# Connection is complete"
   ]
  },
  {
   "cell_type": "code",
   "execution_count": 23,
   "metadata": {},
   "outputs": [
    {
     "name": "stdout",
     "output_type": "stream",
     "text": [
      "Email: ········\n",
      "Password: ········\n"
     ]
    }
   ],
   "source": [
    "import getpass         # We can hide our passwords with the help of this library\n",
    "email= getpass.getpass(\"Email: \")  # Getpass Method to hide password\n",
    "password = getpass.getpass(\"Password: \")  # Enter your app password"
   ]
  },
  {
   "cell_type": "markdown",
   "metadata": {},
   "source": [
    "smtp_object.login(email,password)"
   ]
  },
  {
   "cell_type": "code",
   "execution_count": 24,
   "metadata": {},
   "outputs": [
    {
     "data": {
      "text/plain": [
       "(235, b'2.7.0 Accepted')"
      ]
     },
     "execution_count": 24,
     "metadata": {},
     "output_type": "execute_result"
    }
   ],
   "source": [
    "smtp_object.login(email,password)   # logging into our email id"
   ]
  },
  {
   "cell_type": "code",
   "execution_count": 25,
   "metadata": {},
   "outputs": [
    {
     "name": "stdout",
     "output_type": "stream",
     "text": [
      "Enter your Subject Line: Emailing with python\n",
      "Enter the body message: This is a test message\n"
     ]
    },
    {
     "data": {
      "text/plain": [
       "{}"
      ]
     },
     "execution_count": 25,
     "metadata": {},
     "output_type": "execute_result"
    }
   ],
   "source": [
    "from_address=email        # From email address\n",
    "to_address=email          # To email address\n",
    "subject=input(\"Enter your Subject Line: \")    # Subject Line of your email\n",
    "message=input(\"Enter the body message: \")     # Message\n",
    "msg=\"subject: \" + subject + '\\n' + message  # script to store message\n",
    "smtp_object.sendmail(from_address,to_address,msg)   # Sending msg"
   ]
  },
  {
   "cell_type": "code",
   "execution_count": 26,
   "metadata": {},
   "outputs": [
    {
     "data": {
      "text/plain": [
       "(221, b'2.0.0 closing connection u24sm5881349pfm.51 - gsmtp')"
      ]
     },
     "execution_count": 26,
     "metadata": {},
     "output_type": "execute_result"
    }
   ],
   "source": [
    "# If you get these braces in your output it means your email is sent\n",
    "\n",
    "smtp_object.quit()   # close your smtp object"
   ]
  },
  {
   "cell_type": "code",
   "execution_count": null,
   "metadata": {},
   "outputs": [],
   "source": []
  }
 ],
 "metadata": {
  "kernelspec": {
   "display_name": "Python 3",
   "language": "python",
   "name": "python3"
  },
  "language_info": {
   "codemirror_mode": {
    "name": "ipython",
    "version": 3
   },
   "file_extension": ".py",
   "mimetype": "text/x-python",
   "name": "python",
   "nbconvert_exporter": "python",
   "pygments_lexer": "ipython3",
   "version": "3.7.3"
  }
 },
 "nbformat": 4,
 "nbformat_minor": 2
}
